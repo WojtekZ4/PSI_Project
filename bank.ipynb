{
 "cells": [
  {
   "cell_type": "code",
   "execution_count": 319,
   "metadata": {
    "collapsed": true
   },
   "outputs": [],
   "source": [
    "import numpy as np\n",
    "import sklearn"
   ]
  },
  {
   "cell_type": "code",
   "execution_count": 320,
   "outputs": [],
   "source": [
    "import os\n",
    "\n",
    "TITANIC_PATH = os.path.join(\"data\", \"bank_data\")"
   ],
   "metadata": {
    "collapsed": false,
    "pycharm": {
     "name": "#%%\n"
    }
   }
  },
  {
   "cell_type": "code",
   "execution_count": 321,
   "outputs": [],
   "source": [
    "import pandas as pd\n",
    "\n",
    "\n",
    "def load_titanic_data(filename, titanic_path=TITANIC_PATH):\n",
    "    csv_path = os.path.join(titanic_path, filename)\n",
    "    return pd.read_csv(csv_path)"
   ],
   "metadata": {
    "collapsed": false,
    "pycharm": {
     "name": "#%%\n"
    }
   }
  },
  {
   "cell_type": "code",
   "execution_count": 322,
   "outputs": [],
   "source": [
    "full_data = load_titanic_data(\"bank-full.csv\")"
   ],
   "metadata": {
    "collapsed": false,
    "pycharm": {
     "name": "#%%\n"
    }
   }
  },
  {
   "cell_type": "code",
   "execution_count": 323,
   "outputs": [
    {
     "name": "stdout",
     "output_type": "stream",
     "text": [
      "<class 'pandas.core.frame.DataFrame'>\n",
      "RangeIndex: 45211 entries, 0 to 45210\n",
      "Data columns (total 17 columns):\n",
      " #   Column       Non-Null Count  Dtype \n",
      "---  ------       --------------  ----- \n",
      " 0   index,\"age   45211 non-null  object\n",
      " 1   job\"\"        45211 non-null  object\n",
      " 2   marital\"\"    45211 non-null  object\n",
      " 3   education\"\"  45211 non-null  object\n",
      " 4   default\"\"    45211 non-null  object\n",
      " 5   balance\"\"    45211 non-null  int64 \n",
      " 6   housing\"\"    45211 non-null  object\n",
      " 7   loan\"\"       45211 non-null  object\n",
      " 8   contact\"\"    45211 non-null  object\n",
      " 9   day\"\"        45211 non-null  int64 \n",
      " 10  month\"\"      45211 non-null  object\n",
      " 11  duration\"\"   45211 non-null  int64 \n",
      " 12  campaign\"\"   45211 non-null  int64 \n",
      " 13  pdays\"\"      45211 non-null  int64 \n",
      " 14  previous\"\"   45211 non-null  int64 \n",
      " 15  poutcome\"\"   45211 non-null  object\n",
      " 16  y\"\"\"         45211 non-null  object\n",
      "dtypes: int64(6), object(11)\n",
      "memory usage: 4.0+ MB\n"
     ]
    }
   ],
   "source": [
    "full_data.info()"
   ],
   "metadata": {
    "collapsed": false,
    "pycharm": {
     "name": "#%%\n"
    }
   }
  },
  {
   "cell_type": "code",
   "execution_count": 324,
   "outputs": [
    {
     "data": {
      "text/plain": "  index,\"age           job\"\"  marital\"\"  education\"\" default\"\"  balance\"\"  \\\n0      0,\"58    management\"\"  married\"\"   tertiary\"\"      no\"\"       2143   \n1      1,\"44    technician\"\"   single\"\"  secondary\"\"      no\"\"         29   \n2      2,\"33  entrepreneur\"\"  married\"\"  secondary\"\"      no\"\"          2   \n3      3,\"47   blue-collar\"\"  married\"\"    unknown\"\"      no\"\"       1506   \n4      4,\"33       unknown\"\"   single\"\"    unknown\"\"      no\"\"          1   \n\n  housing\"\" loan\"\"  contact\"\"  day\"\" month\"\"  duration\"\"  campaign\"\"  pdays\"\"  \\\n0     yes\"\"   no\"\"  unknown\"\"      5   may\"\"         261           1       -1   \n1     yes\"\"   no\"\"  unknown\"\"      5   may\"\"         151           1       -1   \n2     yes\"\"  yes\"\"  unknown\"\"      5   may\"\"          76           1       -1   \n3     yes\"\"   no\"\"  unknown\"\"      5   may\"\"          92           1       -1   \n4      no\"\"   no\"\"  unknown\"\"      5   may\"\"         198           1       -1   \n\n   previous\"\" poutcome\"\"   y\"\"\"  \n0           0  unknown\"\"  no\"\"\"  \n1           0  unknown\"\"  no\"\"\"  \n2           0  unknown\"\"  no\"\"\"  \n3           0  unknown\"\"  no\"\"\"  \n4           0  unknown\"\"  no\"\"\"  ",
      "text/html": "<div>\n<style scoped>\n    .dataframe tbody tr th:only-of-type {\n        vertical-align: middle;\n    }\n\n    .dataframe tbody tr th {\n        vertical-align: top;\n    }\n\n    .dataframe thead th {\n        text-align: right;\n    }\n</style>\n<table border=\"1\" class=\"dataframe\">\n  <thead>\n    <tr style=\"text-align: right;\">\n      <th></th>\n      <th>index,\"age</th>\n      <th>job\"\"</th>\n      <th>marital\"\"</th>\n      <th>education\"\"</th>\n      <th>default\"\"</th>\n      <th>balance\"\"</th>\n      <th>housing\"\"</th>\n      <th>loan\"\"</th>\n      <th>contact\"\"</th>\n      <th>day\"\"</th>\n      <th>month\"\"</th>\n      <th>duration\"\"</th>\n      <th>campaign\"\"</th>\n      <th>pdays\"\"</th>\n      <th>previous\"\"</th>\n      <th>poutcome\"\"</th>\n      <th>y\"\"\"</th>\n    </tr>\n  </thead>\n  <tbody>\n    <tr>\n      <th>0</th>\n      <td>0,\"58</td>\n      <td>management\"\"</td>\n      <td>married\"\"</td>\n      <td>tertiary\"\"</td>\n      <td>no\"\"</td>\n      <td>2143</td>\n      <td>yes\"\"</td>\n      <td>no\"\"</td>\n      <td>unknown\"\"</td>\n      <td>5</td>\n      <td>may\"\"</td>\n      <td>261</td>\n      <td>1</td>\n      <td>-1</td>\n      <td>0</td>\n      <td>unknown\"\"</td>\n      <td>no\"\"\"</td>\n    </tr>\n    <tr>\n      <th>1</th>\n      <td>1,\"44</td>\n      <td>technician\"\"</td>\n      <td>single\"\"</td>\n      <td>secondary\"\"</td>\n      <td>no\"\"</td>\n      <td>29</td>\n      <td>yes\"\"</td>\n      <td>no\"\"</td>\n      <td>unknown\"\"</td>\n      <td>5</td>\n      <td>may\"\"</td>\n      <td>151</td>\n      <td>1</td>\n      <td>-1</td>\n      <td>0</td>\n      <td>unknown\"\"</td>\n      <td>no\"\"\"</td>\n    </tr>\n    <tr>\n      <th>2</th>\n      <td>2,\"33</td>\n      <td>entrepreneur\"\"</td>\n      <td>married\"\"</td>\n      <td>secondary\"\"</td>\n      <td>no\"\"</td>\n      <td>2</td>\n      <td>yes\"\"</td>\n      <td>yes\"\"</td>\n      <td>unknown\"\"</td>\n      <td>5</td>\n      <td>may\"\"</td>\n      <td>76</td>\n      <td>1</td>\n      <td>-1</td>\n      <td>0</td>\n      <td>unknown\"\"</td>\n      <td>no\"\"\"</td>\n    </tr>\n    <tr>\n      <th>3</th>\n      <td>3,\"47</td>\n      <td>blue-collar\"\"</td>\n      <td>married\"\"</td>\n      <td>unknown\"\"</td>\n      <td>no\"\"</td>\n      <td>1506</td>\n      <td>yes\"\"</td>\n      <td>no\"\"</td>\n      <td>unknown\"\"</td>\n      <td>5</td>\n      <td>may\"\"</td>\n      <td>92</td>\n      <td>1</td>\n      <td>-1</td>\n      <td>0</td>\n      <td>unknown\"\"</td>\n      <td>no\"\"\"</td>\n    </tr>\n    <tr>\n      <th>4</th>\n      <td>4,\"33</td>\n      <td>unknown\"\"</td>\n      <td>single\"\"</td>\n      <td>unknown\"\"</td>\n      <td>no\"\"</td>\n      <td>1</td>\n      <td>no\"\"</td>\n      <td>no\"\"</td>\n      <td>unknown\"\"</td>\n      <td>5</td>\n      <td>may\"\"</td>\n      <td>198</td>\n      <td>1</td>\n      <td>-1</td>\n      <td>0</td>\n      <td>unknown\"\"</td>\n      <td>no\"\"\"</td>\n    </tr>\n  </tbody>\n</table>\n</div>"
     },
     "execution_count": 324,
     "metadata": {},
     "output_type": "execute_result"
    }
   ],
   "source": [
    "full_data.head()"
   ],
   "metadata": {
    "collapsed": false,
    "pycharm": {
     "name": "#%%\n"
    }
   }
  },
  {
   "cell_type": "code",
   "execution_count": 325,
   "outputs": [
    {
     "data": {
      "text/plain": "0         married\"\"\n1          single\"\"\n2         married\"\"\n3         married\"\"\n4          single\"\"\n            ...    \n45206     married\"\"\n45207    divorced\"\"\n45208     married\"\"\n45209     married\"\"\n45210     married\"\"\nName: marital\"\", Length: 45211, dtype: object"
     },
     "execution_count": 325,
     "metadata": {},
     "output_type": "execute_result"
    }
   ],
   "source": [
    "full_data['marital\"\"']"
   ],
   "metadata": {
    "collapsed": false,
    "pycharm": {
     "name": "#%%\n"
    }
   }
  },
  {
   "cell_type": "code",
   "execution_count": 326,
   "outputs": [],
   "source": [
    "\n",
    "# full_data.values = full_data.values.str.replace('\"', '')"
   ],
   "metadata": {
    "collapsed": false,
    "pycharm": {
     "name": "#%%\n"
    }
   }
  },
  {
   "cell_type": "code",
   "execution_count": 326,
   "outputs": [],
   "source": [],
   "metadata": {
    "collapsed": false,
    "pycharm": {
     "name": "#%%\n"
    }
   }
  },
  {
   "cell_type": "code",
   "execution_count": 327,
   "outputs": [
    {
     "data": {
      "text/plain": "  index,\"age           job\"\"  marital\"\"  education\"\" default\"\"  balance\"\"  \\\n0      0,\"58    management\"\"  married\"\"   tertiary\"\"      no\"\"       2143   \n1      1,\"44    technician\"\"   single\"\"  secondary\"\"      no\"\"         29   \n2      2,\"33  entrepreneur\"\"  married\"\"  secondary\"\"      no\"\"          2   \n3      3,\"47   blue-collar\"\"  married\"\"    unknown\"\"      no\"\"       1506   \n4      4,\"33       unknown\"\"   single\"\"    unknown\"\"      no\"\"          1   \n\n  housing\"\" loan\"\"  contact\"\"  day\"\" month\"\"  duration\"\"  campaign\"\"  pdays\"\"  \\\n0     yes\"\"   no\"\"  unknown\"\"      5   may\"\"         261           1       -1   \n1     yes\"\"   no\"\"  unknown\"\"      5   may\"\"         151           1       -1   \n2     yes\"\"  yes\"\"  unknown\"\"      5   may\"\"          76           1       -1   \n3     yes\"\"   no\"\"  unknown\"\"      5   may\"\"          92           1       -1   \n4      no\"\"   no\"\"  unknown\"\"      5   may\"\"         198           1       -1   \n\n   previous\"\" poutcome\"\"   y\"\"\"  \n0           0  unknown\"\"  no\"\"\"  \n1           0  unknown\"\"  no\"\"\"  \n2           0  unknown\"\"  no\"\"\"  \n3           0  unknown\"\"  no\"\"\"  \n4           0  unknown\"\"  no\"\"\"  ",
      "text/html": "<div>\n<style scoped>\n    .dataframe tbody tr th:only-of-type {\n        vertical-align: middle;\n    }\n\n    .dataframe tbody tr th {\n        vertical-align: top;\n    }\n\n    .dataframe thead th {\n        text-align: right;\n    }\n</style>\n<table border=\"1\" class=\"dataframe\">\n  <thead>\n    <tr style=\"text-align: right;\">\n      <th></th>\n      <th>index,\"age</th>\n      <th>job\"\"</th>\n      <th>marital\"\"</th>\n      <th>education\"\"</th>\n      <th>default\"\"</th>\n      <th>balance\"\"</th>\n      <th>housing\"\"</th>\n      <th>loan\"\"</th>\n      <th>contact\"\"</th>\n      <th>day\"\"</th>\n      <th>month\"\"</th>\n      <th>duration\"\"</th>\n      <th>campaign\"\"</th>\n      <th>pdays\"\"</th>\n      <th>previous\"\"</th>\n      <th>poutcome\"\"</th>\n      <th>y\"\"\"</th>\n    </tr>\n  </thead>\n  <tbody>\n    <tr>\n      <th>0</th>\n      <td>0,\"58</td>\n      <td>management\"\"</td>\n      <td>married\"\"</td>\n      <td>tertiary\"\"</td>\n      <td>no\"\"</td>\n      <td>2143</td>\n      <td>yes\"\"</td>\n      <td>no\"\"</td>\n      <td>unknown\"\"</td>\n      <td>5</td>\n      <td>may\"\"</td>\n      <td>261</td>\n      <td>1</td>\n      <td>-1</td>\n      <td>0</td>\n      <td>unknown\"\"</td>\n      <td>no\"\"\"</td>\n    </tr>\n    <tr>\n      <th>1</th>\n      <td>1,\"44</td>\n      <td>technician\"\"</td>\n      <td>single\"\"</td>\n      <td>secondary\"\"</td>\n      <td>no\"\"</td>\n      <td>29</td>\n      <td>yes\"\"</td>\n      <td>no\"\"</td>\n      <td>unknown\"\"</td>\n      <td>5</td>\n      <td>may\"\"</td>\n      <td>151</td>\n      <td>1</td>\n      <td>-1</td>\n      <td>0</td>\n      <td>unknown\"\"</td>\n      <td>no\"\"\"</td>\n    </tr>\n    <tr>\n      <th>2</th>\n      <td>2,\"33</td>\n      <td>entrepreneur\"\"</td>\n      <td>married\"\"</td>\n      <td>secondary\"\"</td>\n      <td>no\"\"</td>\n      <td>2</td>\n      <td>yes\"\"</td>\n      <td>yes\"\"</td>\n      <td>unknown\"\"</td>\n      <td>5</td>\n      <td>may\"\"</td>\n      <td>76</td>\n      <td>1</td>\n      <td>-1</td>\n      <td>0</td>\n      <td>unknown\"\"</td>\n      <td>no\"\"\"</td>\n    </tr>\n    <tr>\n      <th>3</th>\n      <td>3,\"47</td>\n      <td>blue-collar\"\"</td>\n      <td>married\"\"</td>\n      <td>unknown\"\"</td>\n      <td>no\"\"</td>\n      <td>1506</td>\n      <td>yes\"\"</td>\n      <td>no\"\"</td>\n      <td>unknown\"\"</td>\n      <td>5</td>\n      <td>may\"\"</td>\n      <td>92</td>\n      <td>1</td>\n      <td>-1</td>\n      <td>0</td>\n      <td>unknown\"\"</td>\n      <td>no\"\"\"</td>\n    </tr>\n    <tr>\n      <th>4</th>\n      <td>4,\"33</td>\n      <td>unknown\"\"</td>\n      <td>single\"\"</td>\n      <td>unknown\"\"</td>\n      <td>no\"\"</td>\n      <td>1</td>\n      <td>no\"\"</td>\n      <td>no\"\"</td>\n      <td>unknown\"\"</td>\n      <td>5</td>\n      <td>may\"\"</td>\n      <td>198</td>\n      <td>1</td>\n      <td>-1</td>\n      <td>0</td>\n      <td>unknown\"\"</td>\n      <td>no\"\"\"</td>\n    </tr>\n  </tbody>\n</table>\n</div>"
     },
     "execution_count": 327,
     "metadata": {},
     "output_type": "execute_result"
    }
   ],
   "source": [
    "full_data.head()"
   ],
   "metadata": {
    "collapsed": false,
    "pycharm": {
     "name": "#%%\n"
    }
   }
  },
  {
   "cell_type": "code",
   "execution_count": 328,
   "outputs": [
    {
     "data": {
      "text/plain": "     age             job    marital    education default  balance housing  \\\n0  0,\"58    management\"\"  married\"\"   tertiary\"\"    no\"\"     2143   yes\"\"   \n1  1,\"44    technician\"\"   single\"\"  secondary\"\"    no\"\"       29   yes\"\"   \n2  2,\"33  entrepreneur\"\"  married\"\"  secondary\"\"    no\"\"        2   yes\"\"   \n3  3,\"47   blue-collar\"\"  married\"\"    unknown\"\"    no\"\"     1506   yes\"\"   \n4  4,\"33       unknown\"\"   single\"\"    unknown\"\"    no\"\"        1    no\"\"   \n\n    loan    contact  day  month  duration  campaign  pdays  previous  \\\n0   no\"\"  unknown\"\"    5  may\"\"       261         1     -1         0   \n1   no\"\"  unknown\"\"    5  may\"\"       151         1     -1         0   \n2  yes\"\"  unknown\"\"    5  may\"\"        76         1     -1         0   \n3   no\"\"  unknown\"\"    5  may\"\"        92         1     -1         0   \n4   no\"\"  unknown\"\"    5  may\"\"       198         1     -1         0   \n\n    poutcome      y  \n0  unknown\"\"  no\"\"\"  \n1  unknown\"\"  no\"\"\"  \n2  unknown\"\"  no\"\"\"  \n3  unknown\"\"  no\"\"\"  \n4  unknown\"\"  no\"\"\"  ",
      "text/html": "<div>\n<style scoped>\n    .dataframe tbody tr th:only-of-type {\n        vertical-align: middle;\n    }\n\n    .dataframe tbody tr th {\n        vertical-align: top;\n    }\n\n    .dataframe thead th {\n        text-align: right;\n    }\n</style>\n<table border=\"1\" class=\"dataframe\">\n  <thead>\n    <tr style=\"text-align: right;\">\n      <th></th>\n      <th>age</th>\n      <th>job</th>\n      <th>marital</th>\n      <th>education</th>\n      <th>default</th>\n      <th>balance</th>\n      <th>housing</th>\n      <th>loan</th>\n      <th>contact</th>\n      <th>day</th>\n      <th>month</th>\n      <th>duration</th>\n      <th>campaign</th>\n      <th>pdays</th>\n      <th>previous</th>\n      <th>poutcome</th>\n      <th>y</th>\n    </tr>\n  </thead>\n  <tbody>\n    <tr>\n      <th>0</th>\n      <td>0,\"58</td>\n      <td>management\"\"</td>\n      <td>married\"\"</td>\n      <td>tertiary\"\"</td>\n      <td>no\"\"</td>\n      <td>2143</td>\n      <td>yes\"\"</td>\n      <td>no\"\"</td>\n      <td>unknown\"\"</td>\n      <td>5</td>\n      <td>may\"\"</td>\n      <td>261</td>\n      <td>1</td>\n      <td>-1</td>\n      <td>0</td>\n      <td>unknown\"\"</td>\n      <td>no\"\"\"</td>\n    </tr>\n    <tr>\n      <th>1</th>\n      <td>1,\"44</td>\n      <td>technician\"\"</td>\n      <td>single\"\"</td>\n      <td>secondary\"\"</td>\n      <td>no\"\"</td>\n      <td>29</td>\n      <td>yes\"\"</td>\n      <td>no\"\"</td>\n      <td>unknown\"\"</td>\n      <td>5</td>\n      <td>may\"\"</td>\n      <td>151</td>\n      <td>1</td>\n      <td>-1</td>\n      <td>0</td>\n      <td>unknown\"\"</td>\n      <td>no\"\"\"</td>\n    </tr>\n    <tr>\n      <th>2</th>\n      <td>2,\"33</td>\n      <td>entrepreneur\"\"</td>\n      <td>married\"\"</td>\n      <td>secondary\"\"</td>\n      <td>no\"\"</td>\n      <td>2</td>\n      <td>yes\"\"</td>\n      <td>yes\"\"</td>\n      <td>unknown\"\"</td>\n      <td>5</td>\n      <td>may\"\"</td>\n      <td>76</td>\n      <td>1</td>\n      <td>-1</td>\n      <td>0</td>\n      <td>unknown\"\"</td>\n      <td>no\"\"\"</td>\n    </tr>\n    <tr>\n      <th>3</th>\n      <td>3,\"47</td>\n      <td>blue-collar\"\"</td>\n      <td>married\"\"</td>\n      <td>unknown\"\"</td>\n      <td>no\"\"</td>\n      <td>1506</td>\n      <td>yes\"\"</td>\n      <td>no\"\"</td>\n      <td>unknown\"\"</td>\n      <td>5</td>\n      <td>may\"\"</td>\n      <td>92</td>\n      <td>1</td>\n      <td>-1</td>\n      <td>0</td>\n      <td>unknown\"\"</td>\n      <td>no\"\"\"</td>\n    </tr>\n    <tr>\n      <th>4</th>\n      <td>4,\"33</td>\n      <td>unknown\"\"</td>\n      <td>single\"\"</td>\n      <td>unknown\"\"</td>\n      <td>no\"\"</td>\n      <td>1</td>\n      <td>no\"\"</td>\n      <td>no\"\"</td>\n      <td>unknown\"\"</td>\n      <td>5</td>\n      <td>may\"\"</td>\n      <td>198</td>\n      <td>1</td>\n      <td>-1</td>\n      <td>0</td>\n      <td>unknown\"\"</td>\n      <td>no\"\"\"</td>\n    </tr>\n  </tbody>\n</table>\n</div>"
     },
     "execution_count": 328,
     "metadata": {},
     "output_type": "execute_result"
    }
   ],
   "source": [
    "full_data.columns = full_data.columns.str.replace('\"', '')\n",
    "full_data=full_data.rename({'index,age': 'age'}, axis=1)\n",
    "full_data.head()"
   ],
   "metadata": {
    "collapsed": false,
    "pycharm": {
     "name": "#%%\n"
    }
   }
  },
  {
   "cell_type": "code",
   "execution_count": 329,
   "outputs": [
    {
     "data": {
      "text/plain": "    age           job  marital  education default  balance housing loan  \\\n0  0,58    management  married   tertiary      no     2143     yes   no   \n1  1,44    technician   single  secondary      no       29     yes   no   \n2  2,33  entrepreneur  married  secondary      no        2     yes  yes   \n3  3,47   blue-collar  married    unknown      no     1506     yes   no   \n4  4,33       unknown   single    unknown      no        1      no   no   \n\n   contact  day month  duration  campaign  pdays  previous poutcome   y  \n0  unknown    5   may       261         1     -1         0  unknown  no  \n1  unknown    5   may       151         1     -1         0  unknown  no  \n2  unknown    5   may        76         1     -1         0  unknown  no  \n3  unknown    5   may        92         1     -1         0  unknown  no  \n4  unknown    5   may       198         1     -1         0  unknown  no  ",
      "text/html": "<div>\n<style scoped>\n    .dataframe tbody tr th:only-of-type {\n        vertical-align: middle;\n    }\n\n    .dataframe tbody tr th {\n        vertical-align: top;\n    }\n\n    .dataframe thead th {\n        text-align: right;\n    }\n</style>\n<table border=\"1\" class=\"dataframe\">\n  <thead>\n    <tr style=\"text-align: right;\">\n      <th></th>\n      <th>age</th>\n      <th>job</th>\n      <th>marital</th>\n      <th>education</th>\n      <th>default</th>\n      <th>balance</th>\n      <th>housing</th>\n      <th>loan</th>\n      <th>contact</th>\n      <th>day</th>\n      <th>month</th>\n      <th>duration</th>\n      <th>campaign</th>\n      <th>pdays</th>\n      <th>previous</th>\n      <th>poutcome</th>\n      <th>y</th>\n    </tr>\n  </thead>\n  <tbody>\n    <tr>\n      <th>0</th>\n      <td>0,58</td>\n      <td>management</td>\n      <td>married</td>\n      <td>tertiary</td>\n      <td>no</td>\n      <td>2143</td>\n      <td>yes</td>\n      <td>no</td>\n      <td>unknown</td>\n      <td>5</td>\n      <td>may</td>\n      <td>261</td>\n      <td>1</td>\n      <td>-1</td>\n      <td>0</td>\n      <td>unknown</td>\n      <td>no</td>\n    </tr>\n    <tr>\n      <th>1</th>\n      <td>1,44</td>\n      <td>technician</td>\n      <td>single</td>\n      <td>secondary</td>\n      <td>no</td>\n      <td>29</td>\n      <td>yes</td>\n      <td>no</td>\n      <td>unknown</td>\n      <td>5</td>\n      <td>may</td>\n      <td>151</td>\n      <td>1</td>\n      <td>-1</td>\n      <td>0</td>\n      <td>unknown</td>\n      <td>no</td>\n    </tr>\n    <tr>\n      <th>2</th>\n      <td>2,33</td>\n      <td>entrepreneur</td>\n      <td>married</td>\n      <td>secondary</td>\n      <td>no</td>\n      <td>2</td>\n      <td>yes</td>\n      <td>yes</td>\n      <td>unknown</td>\n      <td>5</td>\n      <td>may</td>\n      <td>76</td>\n      <td>1</td>\n      <td>-1</td>\n      <td>0</td>\n      <td>unknown</td>\n      <td>no</td>\n    </tr>\n    <tr>\n      <th>3</th>\n      <td>3,47</td>\n      <td>blue-collar</td>\n      <td>married</td>\n      <td>unknown</td>\n      <td>no</td>\n      <td>1506</td>\n      <td>yes</td>\n      <td>no</td>\n      <td>unknown</td>\n      <td>5</td>\n      <td>may</td>\n      <td>92</td>\n      <td>1</td>\n      <td>-1</td>\n      <td>0</td>\n      <td>unknown</td>\n      <td>no</td>\n    </tr>\n    <tr>\n      <th>4</th>\n      <td>4,33</td>\n      <td>unknown</td>\n      <td>single</td>\n      <td>unknown</td>\n      <td>no</td>\n      <td>1</td>\n      <td>no</td>\n      <td>no</td>\n      <td>unknown</td>\n      <td>5</td>\n      <td>may</td>\n      <td>198</td>\n      <td>1</td>\n      <td>-1</td>\n      <td>0</td>\n      <td>unknown</td>\n      <td>no</td>\n    </tr>\n  </tbody>\n</table>\n</div>"
     },
     "execution_count": 329,
     "metadata": {},
     "output_type": "execute_result"
    }
   ],
   "source": [
    "full_data['age']=full_data['age'].str.replace('\"', '')\n",
    "full_data['job']=full_data['job'].str.replace('\"', '')\n",
    "full_data['marital']=full_data['marital'].str.replace('\"', '')\n",
    "full_data['education']=full_data['education'].str.replace('\"', '')\n",
    "full_data['default']=full_data['default'].str.replace('\"', '')\n",
    "\n",
    "full_data['housing']=full_data['housing'].str.replace('\"', '')\n",
    "full_data['loan']=full_data['loan'].str.replace('\"', '')\n",
    "full_data['contact']=full_data['contact'].str.replace('\"', '')\n",
    "\n",
    "full_data['month']=full_data['month'].str.replace('\"', '')\n",
    "\n",
    "\n",
    "\n",
    "full_data['poutcome']=full_data['poutcome'].str.replace('\"', '')\n",
    "full_data['y']=full_data['y'].str.replace('\"', '')\n",
    "full_data.head()"
   ],
   "metadata": {
    "collapsed": false,
    "pycharm": {
     "name": "#%%\n"
    }
   }
  },
  {
   "cell_type": "code",
   "execution_count": 330,
   "outputs": [
    {
     "data": {
      "text/plain": "       age           job  marital  education default  balance housing loan  \\\n0  [0, 58]    management  married   tertiary      no     2143     yes   no   \n1  [1, 44]    technician   single  secondary      no       29     yes   no   \n2  [2, 33]  entrepreneur  married  secondary      no        2     yes  yes   \n3  [3, 47]   blue-collar  married    unknown      no     1506     yes   no   \n4  [4, 33]       unknown   single    unknown      no        1      no   no   \n\n   contact  day month  duration  campaign  pdays  previous poutcome   y  \n0  unknown    5   may       261         1     -1         0  unknown  no  \n1  unknown    5   may       151         1     -1         0  unknown  no  \n2  unknown    5   may        76         1     -1         0  unknown  no  \n3  unknown    5   may        92         1     -1         0  unknown  no  \n4  unknown    5   may       198         1     -1         0  unknown  no  ",
      "text/html": "<div>\n<style scoped>\n    .dataframe tbody tr th:only-of-type {\n        vertical-align: middle;\n    }\n\n    .dataframe tbody tr th {\n        vertical-align: top;\n    }\n\n    .dataframe thead th {\n        text-align: right;\n    }\n</style>\n<table border=\"1\" class=\"dataframe\">\n  <thead>\n    <tr style=\"text-align: right;\">\n      <th></th>\n      <th>age</th>\n      <th>job</th>\n      <th>marital</th>\n      <th>education</th>\n      <th>default</th>\n      <th>balance</th>\n      <th>housing</th>\n      <th>loan</th>\n      <th>contact</th>\n      <th>day</th>\n      <th>month</th>\n      <th>duration</th>\n      <th>campaign</th>\n      <th>pdays</th>\n      <th>previous</th>\n      <th>poutcome</th>\n      <th>y</th>\n    </tr>\n  </thead>\n  <tbody>\n    <tr>\n      <th>0</th>\n      <td>[0, 58]</td>\n      <td>management</td>\n      <td>married</td>\n      <td>tertiary</td>\n      <td>no</td>\n      <td>2143</td>\n      <td>yes</td>\n      <td>no</td>\n      <td>unknown</td>\n      <td>5</td>\n      <td>may</td>\n      <td>261</td>\n      <td>1</td>\n      <td>-1</td>\n      <td>0</td>\n      <td>unknown</td>\n      <td>no</td>\n    </tr>\n    <tr>\n      <th>1</th>\n      <td>[1, 44]</td>\n      <td>technician</td>\n      <td>single</td>\n      <td>secondary</td>\n      <td>no</td>\n      <td>29</td>\n      <td>yes</td>\n      <td>no</td>\n      <td>unknown</td>\n      <td>5</td>\n      <td>may</td>\n      <td>151</td>\n      <td>1</td>\n      <td>-1</td>\n      <td>0</td>\n      <td>unknown</td>\n      <td>no</td>\n    </tr>\n    <tr>\n      <th>2</th>\n      <td>[2, 33]</td>\n      <td>entrepreneur</td>\n      <td>married</td>\n      <td>secondary</td>\n      <td>no</td>\n      <td>2</td>\n      <td>yes</td>\n      <td>yes</td>\n      <td>unknown</td>\n      <td>5</td>\n      <td>may</td>\n      <td>76</td>\n      <td>1</td>\n      <td>-1</td>\n      <td>0</td>\n      <td>unknown</td>\n      <td>no</td>\n    </tr>\n    <tr>\n      <th>3</th>\n      <td>[3, 47]</td>\n      <td>blue-collar</td>\n      <td>married</td>\n      <td>unknown</td>\n      <td>no</td>\n      <td>1506</td>\n      <td>yes</td>\n      <td>no</td>\n      <td>unknown</td>\n      <td>5</td>\n      <td>may</td>\n      <td>92</td>\n      <td>1</td>\n      <td>-1</td>\n      <td>0</td>\n      <td>unknown</td>\n      <td>no</td>\n    </tr>\n    <tr>\n      <th>4</th>\n      <td>[4, 33]</td>\n      <td>unknown</td>\n      <td>single</td>\n      <td>unknown</td>\n      <td>no</td>\n      <td>1</td>\n      <td>no</td>\n      <td>no</td>\n      <td>unknown</td>\n      <td>5</td>\n      <td>may</td>\n      <td>198</td>\n      <td>1</td>\n      <td>-1</td>\n      <td>0</td>\n      <td>unknown</td>\n      <td>no</td>\n    </tr>\n  </tbody>\n</table>\n</div>"
     },
     "execution_count": 330,
     "metadata": {},
     "output_type": "execute_result"
    }
   ],
   "source": [
    "\n",
    "full_data['age']=full_data['age'].str.split(',')\n",
    "full_data.head()"
   ],
   "metadata": {
    "collapsed": false,
    "pycharm": {
     "name": "#%%\n"
    }
   }
  },
  {
   "cell_type": "code",
   "execution_count": 331,
   "outputs": [],
   "source": [
    "\n",
    "full_data['age']=full_data['age'].apply(lambda x:x[1])"
   ],
   "metadata": {
    "collapsed": false,
    "pycharm": {
     "name": "#%%\n"
    }
   }
  },
  {
   "cell_type": "code",
   "execution_count": 332,
   "outputs": [
    {
     "data": {
      "text/plain": "  age           job  marital  education default  balance housing loan  \\\n0  58    management  married   tertiary      no     2143     yes   no   \n1  44    technician   single  secondary      no       29     yes   no   \n2  33  entrepreneur  married  secondary      no        2     yes  yes   \n3  47   blue-collar  married    unknown      no     1506     yes   no   \n4  33       unknown   single    unknown      no        1      no   no   \n\n   contact  day month  duration  campaign  pdays  previous poutcome   y  \n0  unknown    5   may       261         1     -1         0  unknown  no  \n1  unknown    5   may       151         1     -1         0  unknown  no  \n2  unknown    5   may        76         1     -1         0  unknown  no  \n3  unknown    5   may        92         1     -1         0  unknown  no  \n4  unknown    5   may       198         1     -1         0  unknown  no  ",
      "text/html": "<div>\n<style scoped>\n    .dataframe tbody tr th:only-of-type {\n        vertical-align: middle;\n    }\n\n    .dataframe tbody tr th {\n        vertical-align: top;\n    }\n\n    .dataframe thead th {\n        text-align: right;\n    }\n</style>\n<table border=\"1\" class=\"dataframe\">\n  <thead>\n    <tr style=\"text-align: right;\">\n      <th></th>\n      <th>age</th>\n      <th>job</th>\n      <th>marital</th>\n      <th>education</th>\n      <th>default</th>\n      <th>balance</th>\n      <th>housing</th>\n      <th>loan</th>\n      <th>contact</th>\n      <th>day</th>\n      <th>month</th>\n      <th>duration</th>\n      <th>campaign</th>\n      <th>pdays</th>\n      <th>previous</th>\n      <th>poutcome</th>\n      <th>y</th>\n    </tr>\n  </thead>\n  <tbody>\n    <tr>\n      <th>0</th>\n      <td>58</td>\n      <td>management</td>\n      <td>married</td>\n      <td>tertiary</td>\n      <td>no</td>\n      <td>2143</td>\n      <td>yes</td>\n      <td>no</td>\n      <td>unknown</td>\n      <td>5</td>\n      <td>may</td>\n      <td>261</td>\n      <td>1</td>\n      <td>-1</td>\n      <td>0</td>\n      <td>unknown</td>\n      <td>no</td>\n    </tr>\n    <tr>\n      <th>1</th>\n      <td>44</td>\n      <td>technician</td>\n      <td>single</td>\n      <td>secondary</td>\n      <td>no</td>\n      <td>29</td>\n      <td>yes</td>\n      <td>no</td>\n      <td>unknown</td>\n      <td>5</td>\n      <td>may</td>\n      <td>151</td>\n      <td>1</td>\n      <td>-1</td>\n      <td>0</td>\n      <td>unknown</td>\n      <td>no</td>\n    </tr>\n    <tr>\n      <th>2</th>\n      <td>33</td>\n      <td>entrepreneur</td>\n      <td>married</td>\n      <td>secondary</td>\n      <td>no</td>\n      <td>2</td>\n      <td>yes</td>\n      <td>yes</td>\n      <td>unknown</td>\n      <td>5</td>\n      <td>may</td>\n      <td>76</td>\n      <td>1</td>\n      <td>-1</td>\n      <td>0</td>\n      <td>unknown</td>\n      <td>no</td>\n    </tr>\n    <tr>\n      <th>3</th>\n      <td>47</td>\n      <td>blue-collar</td>\n      <td>married</td>\n      <td>unknown</td>\n      <td>no</td>\n      <td>1506</td>\n      <td>yes</td>\n      <td>no</td>\n      <td>unknown</td>\n      <td>5</td>\n      <td>may</td>\n      <td>92</td>\n      <td>1</td>\n      <td>-1</td>\n      <td>0</td>\n      <td>unknown</td>\n      <td>no</td>\n    </tr>\n    <tr>\n      <th>4</th>\n      <td>33</td>\n      <td>unknown</td>\n      <td>single</td>\n      <td>unknown</td>\n      <td>no</td>\n      <td>1</td>\n      <td>no</td>\n      <td>no</td>\n      <td>unknown</td>\n      <td>5</td>\n      <td>may</td>\n      <td>198</td>\n      <td>1</td>\n      <td>-1</td>\n      <td>0</td>\n      <td>unknown</td>\n      <td>no</td>\n    </tr>\n  </tbody>\n</table>\n</div>"
     },
     "execution_count": 332,
     "metadata": {},
     "output_type": "execute_result"
    }
   ],
   "source": [
    "full_data.head()"
   ],
   "metadata": {
    "collapsed": false,
    "pycharm": {
     "name": "#%%\n"
    }
   }
  },
  {
   "cell_type": "code",
   "execution_count": 333,
   "outputs": [
    {
     "data": {
      "text/plain": "             balance           day      duration      campaign         pdays  \\\ncount   45211.000000  45211.000000  45211.000000  45211.000000  45211.000000   \nmean     1362.272058     15.806419    258.163080      2.763841     40.197828   \nstd      3044.765829      8.322476    257.527812      3.098021    100.128746   \nmin     -8019.000000      1.000000      0.000000      1.000000     -1.000000   \n25%        72.000000      8.000000    103.000000      1.000000     -1.000000   \n50%       448.000000     16.000000    180.000000      2.000000     -1.000000   \n75%      1428.000000     21.000000    319.000000      3.000000     -1.000000   \nmax    102127.000000     31.000000   4918.000000     63.000000    871.000000   \n\n           previous  \ncount  45211.000000  \nmean       0.580323  \nstd        2.303441  \nmin        0.000000  \n25%        0.000000  \n50%        0.000000  \n75%        0.000000  \nmax      275.000000  ",
      "text/html": "<div>\n<style scoped>\n    .dataframe tbody tr th:only-of-type {\n        vertical-align: middle;\n    }\n\n    .dataframe tbody tr th {\n        vertical-align: top;\n    }\n\n    .dataframe thead th {\n        text-align: right;\n    }\n</style>\n<table border=\"1\" class=\"dataframe\">\n  <thead>\n    <tr style=\"text-align: right;\">\n      <th></th>\n      <th>balance</th>\n      <th>day</th>\n      <th>duration</th>\n      <th>campaign</th>\n      <th>pdays</th>\n      <th>previous</th>\n    </tr>\n  </thead>\n  <tbody>\n    <tr>\n      <th>count</th>\n      <td>45211.000000</td>\n      <td>45211.000000</td>\n      <td>45211.000000</td>\n      <td>45211.000000</td>\n      <td>45211.000000</td>\n      <td>45211.000000</td>\n    </tr>\n    <tr>\n      <th>mean</th>\n      <td>1362.272058</td>\n      <td>15.806419</td>\n      <td>258.163080</td>\n      <td>2.763841</td>\n      <td>40.197828</td>\n      <td>0.580323</td>\n    </tr>\n    <tr>\n      <th>std</th>\n      <td>3044.765829</td>\n      <td>8.322476</td>\n      <td>257.527812</td>\n      <td>3.098021</td>\n      <td>100.128746</td>\n      <td>2.303441</td>\n    </tr>\n    <tr>\n      <th>min</th>\n      <td>-8019.000000</td>\n      <td>1.000000</td>\n      <td>0.000000</td>\n      <td>1.000000</td>\n      <td>-1.000000</td>\n      <td>0.000000</td>\n    </tr>\n    <tr>\n      <th>25%</th>\n      <td>72.000000</td>\n      <td>8.000000</td>\n      <td>103.000000</td>\n      <td>1.000000</td>\n      <td>-1.000000</td>\n      <td>0.000000</td>\n    </tr>\n    <tr>\n      <th>50%</th>\n      <td>448.000000</td>\n      <td>16.000000</td>\n      <td>180.000000</td>\n      <td>2.000000</td>\n      <td>-1.000000</td>\n      <td>0.000000</td>\n    </tr>\n    <tr>\n      <th>75%</th>\n      <td>1428.000000</td>\n      <td>21.000000</td>\n      <td>319.000000</td>\n      <td>3.000000</td>\n      <td>-1.000000</td>\n      <td>0.000000</td>\n    </tr>\n    <tr>\n      <th>max</th>\n      <td>102127.000000</td>\n      <td>31.000000</td>\n      <td>4918.000000</td>\n      <td>63.000000</td>\n      <td>871.000000</td>\n      <td>275.000000</td>\n    </tr>\n  </tbody>\n</table>\n</div>"
     },
     "execution_count": 333,
     "metadata": {},
     "output_type": "execute_result"
    }
   ],
   "source": [
    "full_data.describe()"
   ],
   "metadata": {
    "collapsed": false,
    "pycharm": {
     "name": "#%%\n"
    }
   }
  },
  {
   "cell_type": "code",
   "execution_count": 334,
   "outputs": [
    {
     "data": {
      "text/plain": "  age           job  marital  education default  balance housing loan  \\\n0  58    management  married   tertiary      no     2143     yes   no   \n1  44    technician   single  secondary      no       29     yes   no   \n2  33  entrepreneur  married  secondary      no        2     yes  yes   \n3  47   blue-collar  married    unknown      no     1506     yes   no   \n4  33       unknown   single    unknown      no        1      no   no   \n\n   contact  day month  duration  campaign  pdays  previous poutcome  y  \n0  unknown    5   may       261         1     -1         0  unknown  0  \n1  unknown    5   may       151         1     -1         0  unknown  0  \n2  unknown    5   may        76         1     -1         0  unknown  0  \n3  unknown    5   may        92         1     -1         0  unknown  0  \n4  unknown    5   may       198         1     -1         0  unknown  0  ",
      "text/html": "<div>\n<style scoped>\n    .dataframe tbody tr th:only-of-type {\n        vertical-align: middle;\n    }\n\n    .dataframe tbody tr th {\n        vertical-align: top;\n    }\n\n    .dataframe thead th {\n        text-align: right;\n    }\n</style>\n<table border=\"1\" class=\"dataframe\">\n  <thead>\n    <tr style=\"text-align: right;\">\n      <th></th>\n      <th>age</th>\n      <th>job</th>\n      <th>marital</th>\n      <th>education</th>\n      <th>default</th>\n      <th>balance</th>\n      <th>housing</th>\n      <th>loan</th>\n      <th>contact</th>\n      <th>day</th>\n      <th>month</th>\n      <th>duration</th>\n      <th>campaign</th>\n      <th>pdays</th>\n      <th>previous</th>\n      <th>poutcome</th>\n      <th>y</th>\n    </tr>\n  </thead>\n  <tbody>\n    <tr>\n      <th>0</th>\n      <td>58</td>\n      <td>management</td>\n      <td>married</td>\n      <td>tertiary</td>\n      <td>no</td>\n      <td>2143</td>\n      <td>yes</td>\n      <td>no</td>\n      <td>unknown</td>\n      <td>5</td>\n      <td>may</td>\n      <td>261</td>\n      <td>1</td>\n      <td>-1</td>\n      <td>0</td>\n      <td>unknown</td>\n      <td>0</td>\n    </tr>\n    <tr>\n      <th>1</th>\n      <td>44</td>\n      <td>technician</td>\n      <td>single</td>\n      <td>secondary</td>\n      <td>no</td>\n      <td>29</td>\n      <td>yes</td>\n      <td>no</td>\n      <td>unknown</td>\n      <td>5</td>\n      <td>may</td>\n      <td>151</td>\n      <td>1</td>\n      <td>-1</td>\n      <td>0</td>\n      <td>unknown</td>\n      <td>0</td>\n    </tr>\n    <tr>\n      <th>2</th>\n      <td>33</td>\n      <td>entrepreneur</td>\n      <td>married</td>\n      <td>secondary</td>\n      <td>no</td>\n      <td>2</td>\n      <td>yes</td>\n      <td>yes</td>\n      <td>unknown</td>\n      <td>5</td>\n      <td>may</td>\n      <td>76</td>\n      <td>1</td>\n      <td>-1</td>\n      <td>0</td>\n      <td>unknown</td>\n      <td>0</td>\n    </tr>\n    <tr>\n      <th>3</th>\n      <td>47</td>\n      <td>blue-collar</td>\n      <td>married</td>\n      <td>unknown</td>\n      <td>no</td>\n      <td>1506</td>\n      <td>yes</td>\n      <td>no</td>\n      <td>unknown</td>\n      <td>5</td>\n      <td>may</td>\n      <td>92</td>\n      <td>1</td>\n      <td>-1</td>\n      <td>0</td>\n      <td>unknown</td>\n      <td>0</td>\n    </tr>\n    <tr>\n      <th>4</th>\n      <td>33</td>\n      <td>unknown</td>\n      <td>single</td>\n      <td>unknown</td>\n      <td>no</td>\n      <td>1</td>\n      <td>no</td>\n      <td>no</td>\n      <td>unknown</td>\n      <td>5</td>\n      <td>may</td>\n      <td>198</td>\n      <td>1</td>\n      <td>-1</td>\n      <td>0</td>\n      <td>unknown</td>\n      <td>0</td>\n    </tr>\n  </tbody>\n</table>\n</div>"
     },
     "execution_count": 334,
     "metadata": {},
     "output_type": "execute_result"
    }
   ],
   "source": [
    "from sklearn.preprocessing import LabelEncoder\n",
    "\n",
    "# full_data[ 'y' == 'no'] = 0\n",
    "# full_data[ 'y' == 'yes'] = 1\n",
    "#\n",
    "# full_data[ 'default' == 'no'] = 0\n",
    "# full_data[ 'default' == 'yes'] = 1\n",
    "#\n",
    "# full_data[ 'housing' == 'no'] = 0\n",
    "# full_data[ 'housing' == 'yes'] = 1\n",
    "#\n",
    "# full_data[ 'loan' == 'no'] = 0\n",
    "# full_data[ 'loan' == 'yes'] = 1\n",
    "label_encoder = LabelEncoder()\n",
    "full_data['y'] = label_encoder.fit_transform(full_data['y'])\n",
    "# full_data['default'] = label_encoder.fit_transform(full_data['default'])\n",
    "# full_data['housing'] = label_encoder.fit_transform(full_data['housing'])\n",
    "# full_data['loan'] = label_encoder.fit_transform(full_data['loan'])\n",
    "# full_data['loan'] = label_encoder.fit_transform(full_data['loan'])\n",
    "# full_data['loan'] = label_encoder.fit_transform(full_data['loan'])\n",
    "# full_data['loan'] = label_encoder.fit_transform(full_data['loan'])\n",
    "# full_data['loan'] = label_encoder.fit_transform(full_data['loan'])\n",
    "full_data.head()"
   ],
   "metadata": {
    "collapsed": false,
    "pycharm": {
     "name": "#%%\n"
    }
   }
  },
  {
   "cell_type": "code",
   "execution_count": 335,
   "outputs": [
    {
     "name": "stdout",
     "output_type": "stream",
     "text": [
      "X.shape: (36168, 16) y.shape: (36168,)\n",
      "X.shape: (9043, 16) y.shape: (9043,)\n"
     ]
    }
   ],
   "source": [
    "from sklearn.model_selection import train_test_split\n",
    "\n",
    "X = full_data.drop(['y'], axis=1)\n",
    "y = full_data['y'].values\n",
    "\n",
    "X_train, X_test, y_train, y_test = train_test_split(X, y, test_size=0.20, random_state=42)\n",
    "print(\"X.shape: {} y.shape: {}\".format(X_train.shape, y_train.shape))\n",
    "print(\"X.shape: {} y.shape: {}\".format(X_test.shape, y_test.shape))"
   ],
   "metadata": {
    "collapsed": false,
    "pycharm": {
     "name": "#%%\n"
    }
   }
  },
  {
   "cell_type": "code",
   "execution_count": 335,
   "outputs": [],
   "source": [],
   "metadata": {
    "collapsed": false,
    "pycharm": {
     "name": "#%%\n"
    }
   }
  },
  {
   "cell_type": "code",
   "execution_count": 335,
   "outputs": [],
   "source": [],
   "metadata": {
    "collapsed": false,
    "pycharm": {
     "name": "#%%\n"
    }
   }
  },
  {
   "cell_type": "code",
   "execution_count": 335,
   "outputs": [],
   "source": [],
   "metadata": {
    "collapsed": false,
    "pycharm": {
     "name": "#%%\n"
    }
   }
  },
  {
   "cell_type": "code",
   "execution_count": 335,
   "outputs": [],
   "source": [],
   "metadata": {
    "collapsed": false,
    "pycharm": {
     "name": "#%%\n"
    }
   }
  },
  {
   "cell_type": "code",
   "execution_count": 335,
   "outputs": [],
   "source": [],
   "metadata": {
    "collapsed": false,
    "pycharm": {
     "name": "#%%\n"
    }
   }
  },
  {
   "cell_type": "code",
   "execution_count": 335,
   "outputs": [],
   "source": [],
   "metadata": {
    "collapsed": false,
    "pycharm": {
     "name": "#%%\n"
    }
   }
  },
  {
   "cell_type": "code",
   "execution_count": 335,
   "outputs": [],
   "source": [],
   "metadata": {
    "collapsed": false,
    "pycharm": {
     "name": "#%%\n"
    }
   }
  },
  {
   "cell_type": "code",
   "execution_count": 335,
   "outputs": [],
   "source": [],
   "metadata": {
    "collapsed": false,
    "pycharm": {
     "name": "#%%\n"
    }
   }
  },
  {
   "cell_type": "code",
   "execution_count": 335,
   "outputs": [],
   "source": [],
   "metadata": {
    "collapsed": false,
    "pycharm": {
     "name": "#%%\n"
    }
   }
  },
  {
   "cell_type": "code",
   "execution_count": 335,
   "outputs": [],
   "source": [],
   "metadata": {
    "collapsed": false,
    "pycharm": {
     "name": "#%%\n"
    }
   }
  },
  {
   "cell_type": "code",
   "execution_count": 335,
   "outputs": [],
   "source": [],
   "metadata": {
    "collapsed": false,
    "pycharm": {
     "name": "#%%\n"
    }
   }
  },
  {
   "cell_type": "code",
   "execution_count": 335,
   "outputs": [],
   "source": [],
   "metadata": {
    "collapsed": false,
    "pycharm": {
     "name": "#%%\n"
    }
   }
  },
  {
   "cell_type": "code",
   "execution_count": 335,
   "outputs": [],
   "source": [],
   "metadata": {
    "collapsed": false,
    "pycharm": {
     "name": "#%%\n"
    }
   }
  },
  {
   "cell_type": "code",
   "execution_count": 335,
   "outputs": [],
   "source": [],
   "metadata": {
    "collapsed": false,
    "pycharm": {
     "name": "#%%\n"
    }
   }
  },
  {
   "cell_type": "code",
   "execution_count": 335,
   "outputs": [],
   "source": [],
   "metadata": {
    "collapsed": false,
    "pycharm": {
     "name": "#%%\n"
    }
   }
  },
  {
   "cell_type": "code",
   "execution_count": 335,
   "outputs": [],
   "source": [],
   "metadata": {
    "collapsed": false,
    "pycharm": {
     "name": "#%%\n"
    }
   }
  },
  {
   "cell_type": "code",
   "execution_count": 335,
   "outputs": [],
   "source": [],
   "metadata": {
    "collapsed": false,
    "pycharm": {
     "name": "#%%\n"
    }
   }
  }
 ],
 "metadata": {
  "kernelspec": {
   "display_name": "Python 3",
   "language": "python",
   "name": "python3"
  },
  "language_info": {
   "codemirror_mode": {
    "name": "ipython",
    "version": 2
   },
   "file_extension": ".py",
   "mimetype": "text/x-python",
   "name": "python",
   "nbconvert_exporter": "python",
   "pygments_lexer": "ipython2",
   "version": "2.7.6"
  }
 },
 "nbformat": 4,
 "nbformat_minor": 0
}