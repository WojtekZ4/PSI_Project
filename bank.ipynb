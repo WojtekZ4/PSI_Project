{
 "cells": [
  {
   "cell_type": "code",
   "execution_count": 381,
   "metadata": {
    "collapsed": true
   },
   "outputs": [],
   "source": [
    "import numpy as np\n",
    "import sklearn\n",
    "import pandas as pd\n",
    "import numpy as np\n",
    "import random as rnd\n",
    "\n",
    "# visualization\n",
    "import seaborn as sns\n",
    "import matplotlib.pyplot as plt\n",
    "from sklearn import  metrics\n",
    "\n",
    "# machine learning\n",
    "from sklearn.linear_model import LogisticRegression\n",
    "from sklearn.svm import SVC, LinearSVC\n",
    "from sklearn.ensemble import RandomForestClassifier\n",
    "from sklearn.neighbors import KNeighborsClassifier\n",
    "from sklearn.naive_bayes import GaussianNB\n",
    "from sklearn.linear_model import Perceptron\n",
    "from sklearn.linear_model import SGDClassifier\n",
    "from sklearn.tree import DecisionTreeClassifier"
   ]
  },
  {
   "cell_type": "markdown",
   "source": [
    "DataImport"
   ],
   "metadata": {
    "collapsed": false,
    "pycharm": {
     "name": "#%% md\n"
    }
   }
  },
  {
   "cell_type": "code",
   "execution_count": 382,
   "outputs": [],
   "source": [
    "import os\n",
    "\n",
    "TITANIC_PATH = os.path.join(\"data\", \"bank\")"
   ],
   "metadata": {
    "collapsed": false,
    "pycharm": {
     "name": "#%%\n"
    }
   }
  },
  {
   "cell_type": "code",
   "execution_count": 383,
   "outputs": [],
   "source": [
    "import pandas as pd\n",
    "\n",
    "\n",
    "def load_titanic_data(filename, titanic_path=TITANIC_PATH):\n",
    "    csv_path = os.path.join(titanic_path, filename)\n",
    "    return pd.read_csv(csv_path,sep=';')"
   ],
   "metadata": {
    "collapsed": false,
    "pycharm": {
     "name": "#%%\n"
    }
   }
  },
  {
   "cell_type": "code",
   "execution_count": 384,
   "outputs": [],
   "source": [
    "full_data = load_titanic_data(\"bank-full.csv\")"
   ],
   "metadata": {
    "collapsed": false,
    "pycharm": {
     "name": "#%%\n"
    }
   }
  },
  {
   "cell_type": "code",
   "execution_count": 385,
   "outputs": [
    {
     "name": "stdout",
     "output_type": "stream",
     "text": [
      "<class 'pandas.core.frame.DataFrame'>\n",
      "RangeIndex: 45211 entries, 0 to 45210\n",
      "Data columns (total 17 columns):\n",
      " #   Column     Non-Null Count  Dtype \n",
      "---  ------     --------------  ----- \n",
      " 0   age        45211 non-null  int64 \n",
      " 1   job        45211 non-null  object\n",
      " 2   marital    45211 non-null  object\n",
      " 3   education  45211 non-null  object\n",
      " 4   default    45211 non-null  object\n",
      " 5   balance    45211 non-null  int64 \n",
      " 6   housing    45211 non-null  object\n",
      " 7   loan       45211 non-null  object\n",
      " 8   contact    45211 non-null  object\n",
      " 9   day        45211 non-null  int64 \n",
      " 10  month      45211 non-null  object\n",
      " 11  duration   45211 non-null  int64 \n",
      " 12  campaign   45211 non-null  int64 \n",
      " 13  pdays      45211 non-null  int64 \n",
      " 14  previous   45211 non-null  int64 \n",
      " 15  poutcome   45211 non-null  object\n",
      " 16  y          45211 non-null  object\n",
      "dtypes: int64(7), object(10)\n",
      "memory usage: 5.9+ MB\n"
     ]
    }
   ],
   "source": [
    "full_data.info()"
   ],
   "metadata": {
    "collapsed": false,
    "pycharm": {
     "name": "#%%\n"
    }
   }
  },
  {
   "cell_type": "code",
   "execution_count": 386,
   "outputs": [
    {
     "data": {
      "text/plain": "   age           job  marital  education default  balance housing loan  \\\n0   58    management  married   tertiary      no     2143     yes   no   \n1   44    technician   single  secondary      no       29     yes   no   \n2   33  entrepreneur  married  secondary      no        2     yes  yes   \n3   47   blue-collar  married    unknown      no     1506     yes   no   \n4   33       unknown   single    unknown      no        1      no   no   \n\n   contact  day month  duration  campaign  pdays  previous poutcome   y  \n0  unknown    5   may       261         1     -1         0  unknown  no  \n1  unknown    5   may       151         1     -1         0  unknown  no  \n2  unknown    5   may        76         1     -1         0  unknown  no  \n3  unknown    5   may        92         1     -1         0  unknown  no  \n4  unknown    5   may       198         1     -1         0  unknown  no  ",
      "text/html": "<div>\n<style scoped>\n    .dataframe tbody tr th:only-of-type {\n        vertical-align: middle;\n    }\n\n    .dataframe tbody tr th {\n        vertical-align: top;\n    }\n\n    .dataframe thead th {\n        text-align: right;\n    }\n</style>\n<table border=\"1\" class=\"dataframe\">\n  <thead>\n    <tr style=\"text-align: right;\">\n      <th></th>\n      <th>age</th>\n      <th>job</th>\n      <th>marital</th>\n      <th>education</th>\n      <th>default</th>\n      <th>balance</th>\n      <th>housing</th>\n      <th>loan</th>\n      <th>contact</th>\n      <th>day</th>\n      <th>month</th>\n      <th>duration</th>\n      <th>campaign</th>\n      <th>pdays</th>\n      <th>previous</th>\n      <th>poutcome</th>\n      <th>y</th>\n    </tr>\n  </thead>\n  <tbody>\n    <tr>\n      <th>0</th>\n      <td>58</td>\n      <td>management</td>\n      <td>married</td>\n      <td>tertiary</td>\n      <td>no</td>\n      <td>2143</td>\n      <td>yes</td>\n      <td>no</td>\n      <td>unknown</td>\n      <td>5</td>\n      <td>may</td>\n      <td>261</td>\n      <td>1</td>\n      <td>-1</td>\n      <td>0</td>\n      <td>unknown</td>\n      <td>no</td>\n    </tr>\n    <tr>\n      <th>1</th>\n      <td>44</td>\n      <td>technician</td>\n      <td>single</td>\n      <td>secondary</td>\n      <td>no</td>\n      <td>29</td>\n      <td>yes</td>\n      <td>no</td>\n      <td>unknown</td>\n      <td>5</td>\n      <td>may</td>\n      <td>151</td>\n      <td>1</td>\n      <td>-1</td>\n      <td>0</td>\n      <td>unknown</td>\n      <td>no</td>\n    </tr>\n    <tr>\n      <th>2</th>\n      <td>33</td>\n      <td>entrepreneur</td>\n      <td>married</td>\n      <td>secondary</td>\n      <td>no</td>\n      <td>2</td>\n      <td>yes</td>\n      <td>yes</td>\n      <td>unknown</td>\n      <td>5</td>\n      <td>may</td>\n      <td>76</td>\n      <td>1</td>\n      <td>-1</td>\n      <td>0</td>\n      <td>unknown</td>\n      <td>no</td>\n    </tr>\n    <tr>\n      <th>3</th>\n      <td>47</td>\n      <td>blue-collar</td>\n      <td>married</td>\n      <td>unknown</td>\n      <td>no</td>\n      <td>1506</td>\n      <td>yes</td>\n      <td>no</td>\n      <td>unknown</td>\n      <td>5</td>\n      <td>may</td>\n      <td>92</td>\n      <td>1</td>\n      <td>-1</td>\n      <td>0</td>\n      <td>unknown</td>\n      <td>no</td>\n    </tr>\n    <tr>\n      <th>4</th>\n      <td>33</td>\n      <td>unknown</td>\n      <td>single</td>\n      <td>unknown</td>\n      <td>no</td>\n      <td>1</td>\n      <td>no</td>\n      <td>no</td>\n      <td>unknown</td>\n      <td>5</td>\n      <td>may</td>\n      <td>198</td>\n      <td>1</td>\n      <td>-1</td>\n      <td>0</td>\n      <td>unknown</td>\n      <td>no</td>\n    </tr>\n  </tbody>\n</table>\n</div>"
     },
     "execution_count": 386,
     "metadata": {},
     "output_type": "execute_result"
    }
   ],
   "source": [
    "full_data.head()"
   ],
   "metadata": {
    "collapsed": false,
    "pycharm": {
     "name": "#%%\n"
    }
   }
  },
  {
   "cell_type": "code",
   "execution_count": 387,
   "outputs": [
    {
     "data": {
      "text/plain": "   age           job  marital  education default  balance housing loan  \\\n0   58    management  married   tertiary      no     2143     yes   no   \n1   44    technician   single  secondary      no       29     yes   no   \n2   33  entrepreneur  married  secondary      no        2     yes  yes   \n3   47   blue-collar  married    unknown      no     1506     yes   no   \n4   33       unknown   single    unknown      no        1      no   no   \n\n   contact  day month  duration  campaign  pdays  previous poutcome   y  \n0  unknown    5   may       261         1     -1         0  unknown  no  \n1  unknown    5   may       151         1     -1         0  unknown  no  \n2  unknown    5   may        76         1     -1         0  unknown  no  \n3  unknown    5   may        92         1     -1         0  unknown  no  \n4  unknown    5   may       198         1     -1         0  unknown  no  ",
      "text/html": "<div>\n<style scoped>\n    .dataframe tbody tr th:only-of-type {\n        vertical-align: middle;\n    }\n\n    .dataframe tbody tr th {\n        vertical-align: top;\n    }\n\n    .dataframe thead th {\n        text-align: right;\n    }\n</style>\n<table border=\"1\" class=\"dataframe\">\n  <thead>\n    <tr style=\"text-align: right;\">\n      <th></th>\n      <th>age</th>\n      <th>job</th>\n      <th>marital</th>\n      <th>education</th>\n      <th>default</th>\n      <th>balance</th>\n      <th>housing</th>\n      <th>loan</th>\n      <th>contact</th>\n      <th>day</th>\n      <th>month</th>\n      <th>duration</th>\n      <th>campaign</th>\n      <th>pdays</th>\n      <th>previous</th>\n      <th>poutcome</th>\n      <th>y</th>\n    </tr>\n  </thead>\n  <tbody>\n    <tr>\n      <th>0</th>\n      <td>58</td>\n      <td>management</td>\n      <td>married</td>\n      <td>tertiary</td>\n      <td>no</td>\n      <td>2143</td>\n      <td>yes</td>\n      <td>no</td>\n      <td>unknown</td>\n      <td>5</td>\n      <td>may</td>\n      <td>261</td>\n      <td>1</td>\n      <td>-1</td>\n      <td>0</td>\n      <td>unknown</td>\n      <td>no</td>\n    </tr>\n    <tr>\n      <th>1</th>\n      <td>44</td>\n      <td>technician</td>\n      <td>single</td>\n      <td>secondary</td>\n      <td>no</td>\n      <td>29</td>\n      <td>yes</td>\n      <td>no</td>\n      <td>unknown</td>\n      <td>5</td>\n      <td>may</td>\n      <td>151</td>\n      <td>1</td>\n      <td>-1</td>\n      <td>0</td>\n      <td>unknown</td>\n      <td>no</td>\n    </tr>\n    <tr>\n      <th>2</th>\n      <td>33</td>\n      <td>entrepreneur</td>\n      <td>married</td>\n      <td>secondary</td>\n      <td>no</td>\n      <td>2</td>\n      <td>yes</td>\n      <td>yes</td>\n      <td>unknown</td>\n      <td>5</td>\n      <td>may</td>\n      <td>76</td>\n      <td>1</td>\n      <td>-1</td>\n      <td>0</td>\n      <td>unknown</td>\n      <td>no</td>\n    </tr>\n    <tr>\n      <th>3</th>\n      <td>47</td>\n      <td>blue-collar</td>\n      <td>married</td>\n      <td>unknown</td>\n      <td>no</td>\n      <td>1506</td>\n      <td>yes</td>\n      <td>no</td>\n      <td>unknown</td>\n      <td>5</td>\n      <td>may</td>\n      <td>92</td>\n      <td>1</td>\n      <td>-1</td>\n      <td>0</td>\n      <td>unknown</td>\n      <td>no</td>\n    </tr>\n    <tr>\n      <th>4</th>\n      <td>33</td>\n      <td>unknown</td>\n      <td>single</td>\n      <td>unknown</td>\n      <td>no</td>\n      <td>1</td>\n      <td>no</td>\n      <td>no</td>\n      <td>unknown</td>\n      <td>5</td>\n      <td>may</td>\n      <td>198</td>\n      <td>1</td>\n      <td>-1</td>\n      <td>0</td>\n      <td>unknown</td>\n      <td>no</td>\n    </tr>\n  </tbody>\n</table>\n</div>"
     },
     "execution_count": 387,
     "metadata": {},
     "output_type": "execute_result"
    }
   ],
   "source": [
    "full_data.head()"
   ],
   "metadata": {
    "collapsed": false,
    "pycharm": {
     "name": "#%%\n"
    }
   }
  },
  {
   "cell_type": "code",
   "execution_count": 388,
   "outputs": [
    {
     "data": {
      "text/plain": "   age           job  marital  education default  balance housing loan  \\\n0   58    management  married   tertiary      no     2143     yes   no   \n1   44    technician   single  secondary      no       29     yes   no   \n2   33  entrepreneur  married  secondary      no        2     yes  yes   \n3   47   blue-collar  married    unknown      no     1506     yes   no   \n4   33       unknown   single    unknown      no        1      no   no   \n\n   contact  day month  duration  campaign  pdays  previous poutcome   y  \n0  unknown    5   may       261         1     -1         0  unknown  no  \n1  unknown    5   may       151         1     -1         0  unknown  no  \n2  unknown    5   may        76         1     -1         0  unknown  no  \n3  unknown    5   may        92         1     -1         0  unknown  no  \n4  unknown    5   may       198         1     -1         0  unknown  no  ",
      "text/html": "<div>\n<style scoped>\n    .dataframe tbody tr th:only-of-type {\n        vertical-align: middle;\n    }\n\n    .dataframe tbody tr th {\n        vertical-align: top;\n    }\n\n    .dataframe thead th {\n        text-align: right;\n    }\n</style>\n<table border=\"1\" class=\"dataframe\">\n  <thead>\n    <tr style=\"text-align: right;\">\n      <th></th>\n      <th>age</th>\n      <th>job</th>\n      <th>marital</th>\n      <th>education</th>\n      <th>default</th>\n      <th>balance</th>\n      <th>housing</th>\n      <th>loan</th>\n      <th>contact</th>\n      <th>day</th>\n      <th>month</th>\n      <th>duration</th>\n      <th>campaign</th>\n      <th>pdays</th>\n      <th>previous</th>\n      <th>poutcome</th>\n      <th>y</th>\n    </tr>\n  </thead>\n  <tbody>\n    <tr>\n      <th>0</th>\n      <td>58</td>\n      <td>management</td>\n      <td>married</td>\n      <td>tertiary</td>\n      <td>no</td>\n      <td>2143</td>\n      <td>yes</td>\n      <td>no</td>\n      <td>unknown</td>\n      <td>5</td>\n      <td>may</td>\n      <td>261</td>\n      <td>1</td>\n      <td>-1</td>\n      <td>0</td>\n      <td>unknown</td>\n      <td>no</td>\n    </tr>\n    <tr>\n      <th>1</th>\n      <td>44</td>\n      <td>technician</td>\n      <td>single</td>\n      <td>secondary</td>\n      <td>no</td>\n      <td>29</td>\n      <td>yes</td>\n      <td>no</td>\n      <td>unknown</td>\n      <td>5</td>\n      <td>may</td>\n      <td>151</td>\n      <td>1</td>\n      <td>-1</td>\n      <td>0</td>\n      <td>unknown</td>\n      <td>no</td>\n    </tr>\n    <tr>\n      <th>2</th>\n      <td>33</td>\n      <td>entrepreneur</td>\n      <td>married</td>\n      <td>secondary</td>\n      <td>no</td>\n      <td>2</td>\n      <td>yes</td>\n      <td>yes</td>\n      <td>unknown</td>\n      <td>5</td>\n      <td>may</td>\n      <td>76</td>\n      <td>1</td>\n      <td>-1</td>\n      <td>0</td>\n      <td>unknown</td>\n      <td>no</td>\n    </tr>\n    <tr>\n      <th>3</th>\n      <td>47</td>\n      <td>blue-collar</td>\n      <td>married</td>\n      <td>unknown</td>\n      <td>no</td>\n      <td>1506</td>\n      <td>yes</td>\n      <td>no</td>\n      <td>unknown</td>\n      <td>5</td>\n      <td>may</td>\n      <td>92</td>\n      <td>1</td>\n      <td>-1</td>\n      <td>0</td>\n      <td>unknown</td>\n      <td>no</td>\n    </tr>\n    <tr>\n      <th>4</th>\n      <td>33</td>\n      <td>unknown</td>\n      <td>single</td>\n      <td>unknown</td>\n      <td>no</td>\n      <td>1</td>\n      <td>no</td>\n      <td>no</td>\n      <td>unknown</td>\n      <td>5</td>\n      <td>may</td>\n      <td>198</td>\n      <td>1</td>\n      <td>-1</td>\n      <td>0</td>\n      <td>unknown</td>\n      <td>no</td>\n    </tr>\n  </tbody>\n</table>\n</div>"
     },
     "execution_count": 388,
     "metadata": {},
     "output_type": "execute_result"
    }
   ],
   "source": [
    "full_data.columns = full_data.columns.str.replace('\"', '')\n",
    "full_data=full_data.rename({'index,age': 'age'}, axis=1)\n",
    "full_data.head()"
   ],
   "metadata": {
    "collapsed": false,
    "pycharm": {
     "name": "#%%\n"
    }
   }
  },
  {
   "cell_type": "code",
   "execution_count": 389,
   "outputs": [],
   "source": [
    "# full_data['age']=full_data['age'].str.replace('\"', '')\n",
    "# full_data['job']=full_data['job'].str.replace('\"', '')\n",
    "# full_data['marital']=full_data['marital'].str.replace('\"', '')\n",
    "# full_data['education']=full_data['education'].str.replace('\"', '')\n",
    "# full_data['default']=full_data['default'].str.replace('\"', '')\n",
    "#\n",
    "# full_data['housing']=full_data['housing'].str.replace('\"', '')\n",
    "# full_data['loan']=full_data['loan'].str.replace('\"', '')\n",
    "# full_data['contact']=full_data['contact'].str.replace('\"', '')\n",
    "#\n",
    "# full_data['month']=full_data['month'].str.replace('\"', '')\n",
    "#\n",
    "# full_data['poutcome']=full_data['poutcome'].str.replace('\"', '')\n",
    "# full_data['y']=full_data['y'].str.replace('\"', '')\n",
    "# full_data.head(20)"
   ],
   "metadata": {
    "collapsed": false,
    "pycharm": {
     "name": "#%%\n"
    }
   }
  },
  {
   "cell_type": "code",
   "execution_count": 390,
   "outputs": [],
   "source": [
    "\n",
    "# full_data['age']=full_data['age'].str.split(',')\n",
    "# full_data['age']=full_data['age'].apply(lambda x:x[1])\n",
    "# full_data = full_data.astype({\"age\": 'int64'}, errors='raise')\n",
    "# full_data.head()"
   ],
   "metadata": {
    "collapsed": false,
    "pycharm": {
     "name": "#%%\n"
    }
   }
  },
  {
   "cell_type": "code",
   "execution_count": 391,
   "outputs": [],
   "source": [
    "from sklearn.preprocessing import LabelEncoder\n",
    "label_encoder = LabelEncoder()\n",
    "full_data['y'] = label_encoder.fit_transform(full_data['y'])"
   ],
   "metadata": {
    "collapsed": false,
    "pycharm": {
     "name": "#%%\n"
    }
   }
  },
  {
   "cell_type": "markdown",
   "source": [
    "Data Inspections"
   ],
   "metadata": {
    "collapsed": false,
    "pycharm": {
     "name": "#%% md\n"
    }
   }
  },
  {
   "cell_type": "code",
   "execution_count": 392,
   "outputs": [
    {
     "name": "stdout",
     "output_type": "stream",
     "text": [
      "<class 'pandas.core.frame.DataFrame'>\n",
      "RangeIndex: 45211 entries, 0 to 45210\n",
      "Data columns (total 17 columns):\n",
      " #   Column     Non-Null Count  Dtype \n",
      "---  ------     --------------  ----- \n",
      " 0   age        45211 non-null  int64 \n",
      " 1   job        45211 non-null  object\n",
      " 2   marital    45211 non-null  object\n",
      " 3   education  45211 non-null  object\n",
      " 4   default    45211 non-null  object\n",
      " 5   balance    45211 non-null  int64 \n",
      " 6   housing    45211 non-null  object\n",
      " 7   loan       45211 non-null  object\n",
      " 8   contact    45211 non-null  object\n",
      " 9   day        45211 non-null  int64 \n",
      " 10  month      45211 non-null  object\n",
      " 11  duration   45211 non-null  int64 \n",
      " 12  campaign   45211 non-null  int64 \n",
      " 13  pdays      45211 non-null  int64 \n",
      " 14  previous   45211 non-null  int64 \n",
      " 15  poutcome   45211 non-null  object\n",
      " 16  y          45211 non-null  int32 \n",
      "dtypes: int32(1), int64(7), object(9)\n",
      "memory usage: 5.7+ MB\n"
     ]
    }
   ],
   "source": [
    "full_data.info()"
   ],
   "metadata": {
    "collapsed": false,
    "pycharm": {
     "name": "#%%\n"
    }
   }
  },
  {
   "cell_type": "code",
   "execution_count": 393,
   "outputs": [
    {
     "name": "stdout",
     "output_type": "stream",
     "text": [
      "                      y\n",
      "job                    \n",
      "student        0.286780\n",
      "retired        0.227915\n",
      "unemployed     0.155027\n",
      "management     0.137556\n",
      "admin.         0.122027\n",
      "self-employed  0.118429\n",
      "unknown        0.118056\n",
      "technician     0.110570\n",
      "services       0.088830\n",
      "housemaid      0.087903\n",
      "entrepreneur   0.082717\n",
      "blue-collar    0.072750\n",
      "--\n",
      "blue-collar      0.215257\n",
      "management       0.209197\n",
      "technician       0.168034\n",
      "admin.           0.114375\n",
      "services         0.091880\n",
      "retired          0.050076\n",
      "self-employed    0.034925\n",
      "entrepreneur     0.032890\n",
      "unemployed       0.028820\n",
      "housemaid        0.027427\n",
      "student          0.020747\n",
      "unknown          0.006370\n",
      "Name: job, dtype: float64\n",
      "----\n",
      "                 y\n",
      "marital           \n",
      "single    0.149492\n",
      "divorced  0.119455\n",
      "married   0.101235\n",
      "--\n",
      "married     0.601933\n",
      "single      0.282896\n",
      "divorced    0.115171\n",
      "Name: marital, dtype: float64\n",
      "----\n",
      "                  y\n",
      "education          \n",
      "tertiary   0.150064\n",
      "unknown    0.135703\n",
      "secondary  0.105594\n",
      "primary    0.086265\n",
      "--\n",
      "secondary    0.513194\n",
      "tertiary     0.294198\n",
      "primary      0.151534\n",
      "unknown      0.041074\n",
      "Name: education, dtype: float64\n",
      "----\n",
      "                y\n",
      "default          \n",
      "no       0.117961\n",
      "yes      0.063804\n",
      "--\n",
      "no     0.981973\n",
      "yes    0.018027\n",
      "Name: default, dtype: float64\n",
      "----\n",
      "                y\n",
      "housing          \n",
      "no       0.167024\n",
      "yes      0.077000\n",
      "--\n",
      "yes    0.555838\n",
      "no     0.444162\n",
      "Name: housing, dtype: float64\n",
      "----\n",
      "             y\n",
      "loan          \n",
      "no    0.126557\n",
      "yes   0.066814\n",
      "--\n",
      "no     0.839774\n",
      "yes    0.160226\n",
      "Name: loan, dtype: float64\n",
      "----\n",
      "                  y\n",
      "contact            \n",
      "cellular   0.149189\n",
      "telephone  0.134205\n",
      "unknown    0.040707\n",
      "--\n",
      "cellular     0.647741\n",
      "unknown      0.287983\n",
      "telephone    0.064276\n",
      "Name: contact, dtype: float64\n",
      "----\n",
      "            y\n",
      "day          \n",
      "1    0.279503\n",
      "10   0.230916\n",
      "30   0.173052\n",
      "22   0.170166\n",
      "3    0.164968\n",
      "4    0.159170\n",
      "25   0.158333\n",
      "12   0.152215\n",
      "13   0.152050\n",
      "2    0.140758\n",
      "15   0.139753\n",
      "24   0.138702\n",
      "16   0.135689\n",
      "23   0.134185\n",
      "27   0.133809\n",
      "11   0.122380\n",
      "9    0.114670\n",
      "14   0.113636\n",
      "5    0.112565\n",
      "26   0.112077\n",
      "8    0.109121\n",
      "21   0.099210\n",
      "18   0.098787\n",
      "6    0.093685\n",
      "17   0.090768\n",
      "7    0.086406\n",
      "28   0.078142\n",
      "29   0.073926\n",
      "31   0.071540\n",
      "20   0.069767\n",
      "19   0.069437\n",
      "--\n",
      "20    0.060870\n",
      "18    0.051050\n",
      "21    0.044812\n",
      "17    0.042888\n",
      "6     0.042733\n",
      "5     0.042246\n",
      "14    0.040875\n",
      "8     0.040742\n",
      "28    0.040477\n",
      "7     0.040189\n",
      "19    0.038862\n",
      "29    0.038597\n",
      "15    0.037668\n",
      "12    0.035456\n",
      "13    0.035058\n",
      "30    0.034638\n",
      "9     0.034527\n",
      "11    0.032713\n",
      "4     0.031961\n",
      "16    0.031298\n",
      "2     0.028599\n",
      "27    0.024795\n",
      "3     0.023866\n",
      "26    0.022893\n",
      "23    0.020769\n",
      "22    0.020017\n",
      "25    0.018580\n",
      "31    0.014222\n",
      "10    0.011590\n",
      "24    0.009887\n",
      "1     0.007122\n",
      "Name: day, dtype: float64\n",
      "----\n",
      "              y\n",
      "month          \n",
      "mar    0.519916\n",
      "dec    0.467290\n",
      "sep    0.464594\n",
      "oct    0.437669\n",
      "apr    0.196794\n",
      "feb    0.166478\n",
      "aug    0.110133\n",
      "jun    0.102228\n",
      "nov    0.101511\n",
      "jan    0.101212\n",
      "jul    0.090935\n",
      "may    0.067195\n",
      "--\n",
      "may    0.304483\n",
      "jul    0.152507\n",
      "aug    0.138174\n",
      "jun    0.118135\n",
      "nov    0.087810\n",
      "apr    0.064851\n",
      "feb    0.058592\n",
      "jan    0.031032\n",
      "oct    0.016323\n",
      "sep    0.012807\n",
      "mar    0.010551\n",
      "dec    0.004733\n",
      "Name: month, dtype: float64\n",
      "----\n",
      "                 y\n",
      "campaign          \n",
      "1         0.145976\n",
      "2         0.112035\n",
      "3         0.111936\n",
      "32        0.111111\n",
      "4         0.090006\n",
      "17        0.086957\n",
      "11        0.079602\n",
      "5         0.078798\n",
      "6         0.071263\n",
      "9         0.064220\n",
      "7         0.063946\n",
      "29        0.062500\n",
      "8         0.059259\n",
      "10        0.052632\n",
      "24        0.050000\n",
      "15        0.047619\n",
      "13        0.045113\n",
      "14        0.043011\n",
      "21        0.028571\n",
      "12        0.025806\n",
      "16        0.025316\n",
      "20        0.023256\n",
      "43        0.000000\n",
      "38        0.000000\n",
      "39        0.000000\n",
      "41        0.000000\n",
      "58        0.000000\n",
      "44        0.000000\n",
      "46        0.000000\n",
      "50        0.000000\n",
      "51        0.000000\n",
      "55        0.000000\n",
      "36        0.000000\n",
      "37        0.000000\n",
      "25        0.000000\n",
      "35        0.000000\n",
      "34        0.000000\n",
      "33        0.000000\n",
      "31        0.000000\n",
      "30        0.000000\n",
      "28        0.000000\n",
      "27        0.000000\n",
      "26        0.000000\n",
      "23        0.000000\n",
      "22        0.000000\n",
      "19        0.000000\n",
      "18        0.000000\n",
      "63        0.000000\n",
      "--\n",
      "1     0.388047\n",
      "2     0.276592\n",
      "3     0.122116\n",
      "4     0.077901\n",
      "5     0.039017\n",
      "6     0.028555\n",
      "7     0.016257\n",
      "8     0.011944\n",
      "9     0.007233\n",
      "10    0.005884\n",
      "11    0.004446\n",
      "12    0.003428\n",
      "13    0.002942\n",
      "14    0.002057\n",
      "15    0.001858\n",
      "16    0.001747\n",
      "17    0.001526\n",
      "18    0.001128\n",
      "19    0.000973\n",
      "20    0.000951\n",
      "21    0.000774\n",
      "22    0.000509\n",
      "25    0.000487\n",
      "23    0.000487\n",
      "24    0.000442\n",
      "29    0.000354\n",
      "28    0.000354\n",
      "26    0.000288\n",
      "31    0.000265\n",
      "27    0.000221\n",
      "32    0.000199\n",
      "30    0.000177\n",
      "33    0.000133\n",
      "34    0.000111\n",
      "36    0.000088\n",
      "35    0.000088\n",
      "43    0.000066\n",
      "38    0.000066\n",
      "37    0.000044\n",
      "50    0.000044\n",
      "41    0.000044\n",
      "46    0.000022\n",
      "58    0.000022\n",
      "55    0.000022\n",
      "63    0.000022\n",
      "51    0.000022\n",
      "39    0.000022\n",
      "44    0.000022\n",
      "Name: campaign, dtype: float64\n",
      "----\n",
      "                 y\n",
      "previous          \n",
      "55        1.000000\n",
      "58        1.000000\n",
      "26        0.500000\n",
      "10        0.388060\n",
      "30        0.333333\n",
      "8         0.302326\n",
      "6         0.299639\n",
      "5         0.263617\n",
      "7         0.263415\n",
      "14        0.263158\n",
      "9         0.260870\n",
      "3         0.257443\n",
      "21        0.250000\n",
      "29        0.250000\n",
      "4         0.239496\n",
      "13        0.236842\n",
      "11        0.230769\n",
      "12        0.227273\n",
      "2         0.216524\n",
      "1         0.210317\n",
      "17        0.200000\n",
      "19        0.181818\n",
      "22        0.166667\n",
      "23        0.125000\n",
      "20        0.125000\n",
      "0         0.091573\n",
      "15        0.050000\n",
      "25        0.000000\n",
      "27        0.000000\n",
      "28        0.000000\n",
      "24        0.000000\n",
      "18        0.000000\n",
      "32        0.000000\n",
      "35        0.000000\n",
      "37        0.000000\n",
      "38        0.000000\n",
      "40        0.000000\n",
      "41        0.000000\n",
      "51        0.000000\n",
      "16        0.000000\n",
      "275       0.000000\n",
      "--\n",
      "0      0.817367\n",
      "1      0.061313\n",
      "2      0.046582\n",
      "3      0.025259\n",
      "4      0.015793\n",
      "5      0.010152\n",
      "6      0.006127\n",
      "7      0.004534\n",
      "8      0.002853\n",
      "9      0.002035\n",
      "10     0.001482\n",
      "11     0.001438\n",
      "12     0.000973\n",
      "13     0.000841\n",
      "15     0.000442\n",
      "14     0.000420\n",
      "17     0.000332\n",
      "16     0.000288\n",
      "19     0.000243\n",
      "20     0.000177\n",
      "23     0.000177\n",
      "18     0.000133\n",
      "22     0.000133\n",
      "24     0.000111\n",
      "27     0.000111\n",
      "21     0.000088\n",
      "29     0.000088\n",
      "25     0.000088\n",
      "30     0.000066\n",
      "38     0.000044\n",
      "37     0.000044\n",
      "26     0.000044\n",
      "28     0.000044\n",
      "51     0.000022\n",
      "275    0.000022\n",
      "58     0.000022\n",
      "32     0.000022\n",
      "40     0.000022\n",
      "55     0.000022\n",
      "35     0.000022\n",
      "41     0.000022\n",
      "Name: previous, dtype: float64\n",
      "----\n",
      "                 y\n",
      "poutcome          \n",
      "success   0.647253\n",
      "other     0.166848\n",
      "failure   0.126097\n",
      "unknown   0.091615\n",
      "--\n",
      "unknown    0.817478\n",
      "failure    0.108403\n",
      "other      0.040698\n",
      "success    0.033421\n",
      "Name: poutcome, dtype: float64\n",
      "----\n"
     ]
    }
   ],
   "source": [
    "def dis(name):\n",
    "    print(full_data[[name, 'y']].groupby([name]).mean().sort_values(by='y', ascending=False))\n",
    "    print('--')\n",
    "    print(full_data[name].value_counts(normalize=True))\n",
    "    print('----')\n",
    "to_dsplay=['job', 'marital', 'education', 'default', 'housing', 'loan', 'contact', 'day', 'month', 'campaign', 'previous', 'poutcome']\n",
    "\n",
    "for n in to_dsplay:\n",
    "    dis(n)"
   ],
   "metadata": {
    "collapsed": false,
    "pycharm": {
     "name": "#%%\n"
    }
   }
  },
  {
   "cell_type": "code",
   "execution_count": 394,
   "outputs": [
    {
     "data": {
      "text/plain": "<Figure size 600x300 with 2 Axes>",
      "image/png": "[encoded data removed]"
     },
     "metadata": {},
     "output_type": "display_data"
    },
    {
     "data": {
      "text/plain": "<Figure size 600x300 with 2 Axes>",
      "image/png": "[encoded data removed]"
     },
     "metadata": {},
     "output_type": "display_data"
    },
    {
     "data": {
      "text/plain": "<Figure size 600x300 with 2 Axes>",
      "image/png": "[encoded data removed]"
     },
     "metadata": {},
     "output_type": "display_data"
    },
    {
     "data": {
      "text/plain": "<Figure size 600x300 with 2 Axes>",
      "image/png": "[encoded data removed]"
     },
     "metadata": {},
     "output_type": "display_data"
    },
    {
     "data": {
      "text/plain": "<Figure size 600x300 with 2 Axes>",
      "image/png": "[encoded data removed]"
     },
     "metadata": {},
     "output_type": "display_data"
    },
    {
     "data": {
      "text/plain": "<Figure size 600x300 with 2 Axes>",
      "image/png": "[encoded data removed]"
     },
     "metadata": {},
     "output_type": "display_data"
    },
    {
     "data": {
      "text/plain": "<Figure size 600x300 with 2 Axes>",
      "image/png": "[encoded data removed]"
     },
     "metadata": {},
     "output_type": "display_data"
    },
    {
     "data": {
      "text/plain": "<Figure size 600x300 with 2 Axes>",
      "image/png": "[encoded data removed]"
     },
     "metadata": {},
     "output_type": "display_data"
    }
   ],
   "source": [
    "ret=['age', 'balance','month', 'day', 'duration', 'campaign', 'pdays', 'previous']\n",
    "def sss(name):\n",
    "    g = sns.FacetGrid(full_data, col='y')\n",
    "    g.map(plt.hist, name, bins=20)\n",
    "\n",
    "for a in ret:\n",
    "    sss(a)"
   ],
   "metadata": {
    "collapsed": false,
    "pycharm": {
     "name": "#%%\n"
    }
   }
  },
  {
   "cell_type": "code",
   "execution_count": 395,
   "outputs": [],
   "source": [
    "# full_data['balance'] = np.where(full_data['balance'] > 60000, full_data['balance'].mean(), full_data['balance'])\n",
    "# full_data['duration'] = np.where(full_data['duration'] > 2000, full_data['duration'].mean(), full_data['duration'])\n",
    "# full_data['campaign'] = np.where(full_data['campaign'] > 35, full_data['campaign'].mean(), full_data['campaign'])\n",
    "# full_data['pdays'] = np.where(full_data['pdays'] > 350, full_data['pdays'].mean(), full_data['pdays'])\n",
    "# full_data['previous'] = np.where(full_data['previous'] > 30, full_data['previous'].mean(), full_data['previous'])\n",
    "\n",
    "full_data['age'] = np.where(full_data['age'] > 65, full_data['age'].mean(), full_data['age'])\n",
    "full_data['balance'] = np.where(full_data['balance'] > 6000, full_data['balance'].mean(), full_data['balance'])\n",
    "full_data['duration'] = np.where(full_data['duration'] > 2000, full_data['duration'].mean(), full_data['duration'])\n",
    "full_data['campaign'] = np.where(full_data['campaign'] > 10, full_data['campaign'].mean(), full_data['campaign'])\n",
    "full_data['pdays'] = np.where(full_data['pdays'] > 35, full_data['pdays'].mean(), full_data['pdays'])\n",
    "full_data['previous'] = np.where(full_data['previous'] > 5, full_data['previous'].mean(), full_data['previous'])\n",
    "\n",
    "\n"
   ],
   "metadata": {
    "collapsed": false,
    "pycharm": {
     "name": "#%%\n"
    }
   }
  },
  {
   "cell_type": "code",
   "execution_count": 396,
   "outputs": [
    {
     "name": "stdout",
     "output_type": "stream",
     "text": [
      "age: \n",
      "              range  population      sway\n",
      "0   (17.953, 20.35]    0.002145  0.340206\n",
      "1     (20.35, 22.7]    0.004601  0.298077\n",
      "2     (22.7, 25.05]    0.022804  0.218235\n",
      "3     (25.05, 27.4]    0.037911  0.160443\n",
      "4     (27.4, 29.75]    0.049169  0.149798\n",
      "5     (29.75, 32.1]    0.129128  0.110312\n",
      "6     (32.1, 34.45]    0.086306  0.104562\n",
      "7     (34.45, 36.8]    0.081838  0.109189\n",
      "8     (36.8, 39.15]    0.102829  0.098301\n",
      "9     (39.15, 41.5]    0.075137  0.163674\n",
      "10    (41.5, 43.85]    0.053151  0.089055\n",
      "11    (43.85, 46.2]    0.078012  0.089878\n",
      "12    (46.2, 48.55]    0.046117  0.093525\n",
      "13    (48.55, 50.9]    0.042755  0.089498\n",
      "14    (50.9, 53.25]    0.060560  0.090212\n",
      "15    (53.25, 55.6]    0.035766  0.098949\n",
      "16    (55.6, 57.95]    0.035522  0.090909\n",
      "17    (57.95, 60.3]    0.046582  0.122507\n",
      "18    (60.3, 62.65]    0.005021  0.422907\n",
      "19    (62.65, 65.0]    0.004645  0.409524\n",
      "----\n"
     ]
    },
    {
     "data": {
      "text/plain": "<Figure size 2000x400 with 1 Axes>",
      "image/png": "[encoded data removed]"
     },
     "metadata": {},
     "output_type": "display_data"
    },
    {
     "name": "stdout",
     "output_type": "stream",
     "text": [
      "balance: \n",
      "                    range  population      sway\n",
      "0   (-8033.019, -7318.05]    0.000022  0.000000\n",
      "1     (-7318.05, -6617.1]    0.000022  0.000000\n",
      "2     (-6617.1, -5916.15]    0.000000       NaN\n",
      "3     (-5916.15, -5215.2]    0.000000       NaN\n",
      "4     (-5215.2, -4514.25]    0.000000       NaN\n",
      "5     (-4514.25, -3813.3]    0.000022  0.000000\n",
      "6     (-3813.3, -3112.35]    0.000044  0.000000\n",
      "7     (-3112.35, -2411.4]    0.000088  0.250000\n",
      "8     (-2411.4, -1710.45]    0.000464  0.047619\n",
      "9     (-1710.45, -1009.5]    0.002411  0.027523\n",
      "10     (-1009.5, -308.55]    0.028334  0.058548\n",
      "11       (-308.55, 392.4]    0.441043  0.091825\n",
      "12       (392.4, 1093.35]    0.221627  0.122854\n",
      "13      (1093.35, 1794.3]    0.145274  0.141748\n",
      "14      (1794.3, 2495.25]    0.054920  0.153041\n",
      "15      (2495.25, 3196.2]    0.037203  0.173603\n",
      "16      (3196.2, 3897.15]    0.025923  0.188567\n",
      "17      (3897.15, 4598.1]    0.017341  0.165816\n",
      "18      (4598.1, 5299.05]    0.014797  0.165919\n",
      "19      (5299.05, 6000.0]    0.010462  0.173362\n",
      "----\n"
     ]
    },
    {
     "data": {
      "text/plain": "<Figure size 2000x400 with 1 Axes>",
      "image/png": "[encoded data removed]"
     },
     "metadata": {},
     "output_type": "display_data"
    },
    {
     "name": "stdout",
     "output_type": "stream",
     "text": [
      "day: \n",
      "           range  population      sway\n",
      "0    (0.97, 2.5]    0.035721  0.168421\n",
      "1     (2.5, 4.0]    0.055827  0.161648\n",
      "2     (4.0, 5.5]    0.042246  0.112565\n",
      "3     (5.5, 7.0]    0.082922  0.090157\n",
      "4     (7.0, 8.5]    0.040742  0.109121\n",
      "5    (8.5, 10.0]    0.046117  0.143885\n",
      "6   (10.0, 11.5]    0.032713  0.122380\n",
      "7   (11.5, 13.0]    0.070514  0.152133\n",
      "8   (13.0, 14.5]    0.040875  0.113636\n",
      "9   (14.5, 16.0]    0.068966  0.137909\n",
      "10  (16.0, 17.5]    0.042888  0.090768\n",
      "11  (17.5, 19.0]    0.089912  0.086101\n",
      "12  (19.0, 20.5]    0.060870  0.069767\n",
      "13  (20.5, 22.0]    0.064829  0.121119\n",
      "14  (22.0, 23.5]    0.020769  0.134185\n",
      "15  (23.5, 25.0]    0.028467  0.151515\n",
      "16  (25.0, 26.5]    0.022893  0.112077\n",
      "17  (26.5, 28.0]    0.065272  0.099288\n",
      "18  (28.0, 29.5]    0.038597  0.073926\n",
      "19  (29.5, 31.0]    0.048860  0.143504\n",
      "----\n"
     ]
    },
    {
     "data": {
      "text/plain": "<Figure size 2000x400 with 1 Axes>",
      "image/png": "[encoded data removed]"
     },
     "metadata": {},
     "output_type": "display_data"
    },
    {
     "name": "stdout",
     "output_type": "stream",
     "text": [
      "duration: \n",
      "               range  population      sway\n",
      "0     (-1.994, 99.7]    0.237199  0.010537\n",
      "1      (99.7, 199.4]    0.310278  0.054391\n",
      "2     (199.4, 299.1]    0.181128  0.119184\n",
      "3     (299.1, 398.8]    0.096990  0.151197\n",
      "4     (398.8, 498.5]    0.056115  0.204572\n",
      "5     (498.5, 598.2]    0.035213  0.280779\n",
      "6     (598.2, 697.9]    0.024574  0.367237\n",
      "7     (697.9, 797.6]    0.016677  0.424403\n",
      "8     (797.6, 897.3]    0.011502  0.509615\n",
      "9     (897.3, 997.0]    0.008029  0.567493\n",
      "10   (997.0, 1096.7]    0.006149  0.604317\n",
      "11  (1096.7, 1196.4]    0.004910  0.549550\n",
      "12  (1196.4, 1296.1]    0.003185  0.597222\n",
      "13  (1296.1, 1395.8]    0.002322  0.676190\n",
      "14  (1395.8, 1495.5]    0.001969  0.584270\n",
      "15  (1495.5, 1595.2]    0.001349  0.655738\n",
      "16  (1595.2, 1694.9]    0.000730  0.818182\n",
      "17  (1694.9, 1794.6]    0.000619  0.642857\n",
      "18  (1794.6, 1894.3]    0.000619  0.500000\n",
      "19  (1894.3, 1994.0]    0.000442  0.550000\n",
      "----\n"
     ]
    },
    {
     "data": {
      "text/plain": "<Figure size 2000x400 with 1 Axes>",
      "image/png": "[encoded data removed]"
     },
     "metadata": {},
     "output_type": "display_data"
    },
    {
     "name": "stdout",
     "output_type": "stream",
     "text": [
      "campaign: \n",
      "            range  population      sway\n",
      "0   (0.991, 1.45]    0.388047  0.145976\n",
      "1     (1.45, 1.9]    0.000000       NaN\n",
      "2     (1.9, 2.35]    0.276592  0.112035\n",
      "3     (2.35, 2.8]    0.026454  0.039298\n",
      "4     (2.8, 3.25]    0.122116  0.111936\n",
      "5     (3.25, 3.7]    0.000000       NaN\n",
      "6     (3.7, 4.15]    0.077901  0.090006\n",
      "7     (4.15, 4.6]    0.000000       NaN\n",
      "8     (4.6, 5.05]    0.039017  0.078798\n",
      "9     (5.05, 5.5]    0.000000       NaN\n",
      "10    (5.5, 5.95]    0.000000       NaN\n",
      "11    (5.95, 6.4]    0.028555  0.071263\n",
      "12    (6.4, 6.85]    0.000000       NaN\n",
      "13    (6.85, 7.3]    0.016257  0.063946\n",
      "14    (7.3, 7.75]    0.000000       NaN\n",
      "15    (7.75, 8.2]    0.011944  0.059259\n",
      "16    (8.2, 8.65]    0.000000       NaN\n",
      "17    (8.65, 9.1]    0.007233  0.064220\n",
      "18    (9.1, 9.55]    0.000000       NaN\n",
      "19   (9.55, 10.0]    0.005884  0.052632\n",
      "----\n"
     ]
    },
    {
     "data": {
      "text/plain": "<Figure size 2000x400 with 1 Axes>",
      "image/png": "[encoded data removed]"
     },
     "metadata": {},
     "output_type": "display_data"
    },
    {
     "name": "stdout",
     "output_type": "stream",
     "text": [
      "pdays: \n",
      "               range  population      sway\n",
      "0     (-1.041, 1.06]    0.817699  0.091698\n",
      "1       (1.06, 3.12]    0.000841  0.052632\n",
      "2       (3.12, 5.18]    0.000288  0.076923\n",
      "3       (5.18, 7.24]    0.000376  0.058824\n",
      "4      (7.24, 9.299]    0.000818  0.081081\n",
      "5    (9.299, 11.359]    0.000133  0.666667\n",
      "6   (11.359, 13.419]    0.000288  0.230769\n",
      "7   (13.419, 15.479]    0.000265  0.083333\n",
      "8   (15.479, 17.539]    0.000088  0.250000\n",
      "9   (17.539, 19.599]    0.000066  0.000000\n",
      "10  (19.599, 21.659]    0.000133  0.333333\n",
      "11  (21.659, 23.719]    0.000066  0.333333\n",
      "12  (23.719, 25.779]    0.000066  0.000000\n",
      "13  (25.779, 27.838]    0.000111  0.200000\n",
      "14  (27.838, 29.898]    0.000265  0.166667\n",
      "15  (29.898, 31.958]    0.000133  0.166667\n",
      "16  (31.958, 34.018]    0.000111  0.400000\n",
      "17  (34.018, 36.078]    0.000177  0.375000\n",
      "18  (36.078, 38.138]    0.000000       NaN\n",
      "19  (38.138, 40.198]    0.178076  0.232393\n",
      "----\n"
     ]
    },
    {
     "data": {
      "text/plain": "<Figure size 2000x400 with 1 Axes>",
      "image/png": "[encoded data removed]"
     },
     "metadata": {},
     "output_type": "display_data"
    },
    {
     "name": "stdout",
     "output_type": "stream",
     "text": [
      "previous: \n",
      "             range  population      sway\n",
      "0   (-0.005, 0.25]    0.817367  0.091573\n",
      "1      (0.25, 0.5]    0.000000       NaN\n",
      "2      (0.5, 0.75]    0.023534  0.263158\n",
      "3      (0.75, 1.0]    0.061313  0.210317\n",
      "4      (1.0, 1.25]    0.000000       NaN\n",
      "5      (1.25, 1.5]    0.000000       NaN\n",
      "6      (1.5, 1.75]    0.000000       NaN\n",
      "7      (1.75, 2.0]    0.046582  0.216524\n",
      "8      (2.0, 2.25]    0.000000       NaN\n",
      "9      (2.25, 2.5]    0.000000       NaN\n",
      "10     (2.5, 2.75]    0.000000       NaN\n",
      "11     (2.75, 3.0]    0.025259  0.257443\n",
      "12     (3.0, 3.25]    0.000000       NaN\n",
      "13     (3.25, 3.5]    0.000000       NaN\n",
      "14     (3.5, 3.75]    0.000000       NaN\n",
      "15     (3.75, 4.0]    0.015793  0.239496\n",
      "16     (4.0, 4.25]    0.000000       NaN\n",
      "17     (4.25, 4.5]    0.000000       NaN\n",
      "18     (4.5, 4.75]    0.000000       NaN\n",
      "19     (4.75, 5.0]    0.010152  0.263617\n",
      "----\n"
     ]
    },
    {
     "data": {
      "text/plain": "<Figure size 2000x400 with 1 Axes>",
      "image/png": "[encoded data removed]"
     },
     "metadata": {},
     "output_type": "display_data"
    }
   ],
   "source": [
    "def dis2(name):\n",
    "    print(name+\": \")\n",
    "    new_name=name+\"_band\"\n",
    "    full_data[new_name] = pd.cut(full_data[name], 20)\n",
    "    bars1= pd.DataFrame()\n",
    "    bars4=full_data[[new_name, 'y']].groupby([new_name], as_index=False).mean().sort_values(by=new_name, ascending=True)[new_name]\n",
    "    bars5=full_data[[new_name, 'y']].groupby([new_name], as_index=False).mean().sort_values(by=new_name, ascending=True)['y']\n",
    "    bars6=full_data[new_name].value_counts(normalize=True,sort=False)\n",
    "\n",
    "    bars6=bars6.set_axis(range(20))\n",
    "\n",
    "    dataa = {'range': bars4,\n",
    "        'sway': bars5,\n",
    "        'population': bars6}\n",
    "    dfd = pd.DataFrame(dataa)\n",
    "\n",
    "\n",
    "    print(dfd[['range','population','sway']])\n",
    "    print('----')\n",
    "\n",
    "    f = plt.figure()\n",
    "    f.set_figwidth(20)\n",
    "    f.set_figheight(4)\n",
    "\n",
    "    plt.bar(range(20), dfd['population']*(1-dfd['sway']), color='red', edgecolor='white', width=1)\n",
    "    plt.bar(range(20), dfd['population']*dfd['sway'], bottom=dfd['population']*(1-dfd['sway']), color='green', edgecolor='white', width=1)\n",
    "    plt.xticks(range(20),  dfd['range'], fontweight='bold')\n",
    "\n",
    "    plt.show()\n",
    "    plt.close()\n",
    "\n",
    "to_dsplay_2=['age', 'balance', 'day', 'duration', 'campaign', 'pdays', 'previous']\n",
    "\n",
    "for n in to_dsplay_2:\n",
    "    dis2(n)"
   ],
   "metadata": {
    "collapsed": false,
    "pycharm": {
     "name": "#%%\n"
    }
   }
  },
  {
   "cell_type": "code",
   "execution_count": 396,
   "outputs": [],
   "source": [],
   "metadata": {
    "collapsed": false,
    "pycharm": {
     "name": "#%%\n"
    }
   }
  },
  {
   "cell_type": "code",
   "execution_count": 396,
   "outputs": [],
   "source": [],
   "metadata": {
    "collapsed": false,
    "pycharm": {
     "name": "#%%\n"
    }
   }
  },
  {
   "cell_type": "code",
   "execution_count": 397,
   "outputs": [
    {
     "data": {
      "text/plain": "    age           job  marital  education default  balance housing loan  \\\n0  58.0    management  married   tertiary      no   2143.0     yes   no   \n1  44.0    technician   single  secondary      no     29.0     yes   no   \n2  33.0  entrepreneur  married  secondary      no      2.0     yes  yes   \n3  47.0   blue-collar  married    unknown      no   1506.0     yes   no   \n4  33.0       unknown   single    unknown      no      1.0      no   no   \n\n   contact  day  ... previous  poutcome  y       age_band       balance_band  \\\n0  unknown    5  ...      0.0   unknown  0  (57.95, 60.3]  (1794.3, 2495.25]   \n1  unknown    5  ...      0.0   unknown  0  (43.85, 46.2]   (-308.55, 392.4]   \n2  unknown    5  ...      0.0   unknown  0  (32.1, 34.45]   (-308.55, 392.4]   \n3  unknown    5  ...      0.0   unknown  0  (46.2, 48.55]  (1093.35, 1794.3]   \n4  unknown    5  ...      0.0   unknown  0  (32.1, 34.45]   (-308.55, 392.4]   \n\n     day_band   duration_band  campaign_band      pdays_band   previous_band  \n0  (4.0, 5.5]  (199.4, 299.1]  (0.991, 1.45]  (-1.041, 1.06]  (-0.005, 0.25]  \n1  (4.0, 5.5]   (99.7, 199.4]  (0.991, 1.45]  (-1.041, 1.06]  (-0.005, 0.25]  \n2  (4.0, 5.5]  (-1.994, 99.7]  (0.991, 1.45]  (-1.041, 1.06]  (-0.005, 0.25]  \n3  (4.0, 5.5]  (-1.994, 99.7]  (0.991, 1.45]  (-1.041, 1.06]  (-0.005, 0.25]  \n4  (4.0, 5.5]   (99.7, 199.4]  (0.991, 1.45]  (-1.041, 1.06]  (-0.005, 0.25]  \n\n[5 rows x 24 columns]",
      "text/html": "<div>\n<style scoped>\n    .dataframe tbody tr th:only-of-type {\n        vertical-align: middle;\n    }\n\n    .dataframe tbody tr th {\n        vertical-align: top;\n    }\n\n    .dataframe thead th {\n        text-align: right;\n    }\n</style>\n<table border=\"1\" class=\"dataframe\">\n  <thead>\n    <tr style=\"text-align: right;\">\n      <th></th>\n      <th>age</th>\n      <th>job</th>\n      <th>marital</th>\n      <th>education</th>\n      <th>default</th>\n      <th>balance</th>\n      <th>housing</th>\n      <th>loan</th>\n      <th>contact</th>\n      <th>day</th>\n      <th>...</th>\n      <th>previous</th>\n      <th>poutcome</th>\n      <th>y</th>\n      <th>age_band</th>\n      <th>balance_band</th>\n      <th>day_band</th>\n      <th>duration_band</th>\n      <th>campaign_band</th>\n      <th>pdays_band</th>\n      <th>previous_band</th>\n    </tr>\n  </thead>\n  <tbody>\n    <tr>\n      <th>0</th>\n      <td>58.0</td>\n      <td>management</td>\n      <td>married</td>\n      <td>tertiary</td>\n      <td>no</td>\n      <td>2143.0</td>\n      <td>yes</td>\n      <td>no</td>\n      <td>unknown</td>\n      <td>5</td>\n      <td>...</td>\n      <td>0.0</td>\n      <td>unknown</td>\n      <td>0</td>\n      <td>(57.95, 60.3]</td>\n      <td>(1794.3, 2495.25]</td>\n      <td>(4.0, 5.5]</td>\n      <td>(199.4, 299.1]</td>\n      <td>(0.991, 1.45]</td>\n      <td>(-1.041, 1.06]</td>\n      <td>(-0.005, 0.25]</td>\n    </tr>\n    <tr>\n      <th>1</th>\n      <td>44.0</td>\n      <td>technician</td>\n      <td>single</td>\n      <td>secondary</td>\n      <td>no</td>\n      <td>29.0</td>\n      <td>yes</td>\n      <td>no</td>\n      <td>unknown</td>\n      <td>5</td>\n      <td>...</td>\n      <td>0.0</td>\n      <td>unknown</td>\n      <td>0</td>\n      <td>(43.85, 46.2]</td>\n      <td>(-308.55, 392.4]</td>\n      <td>(4.0, 5.5]</td>\n      <td>(99.7, 199.4]</td>\n      <td>(0.991, 1.45]</td>\n      <td>(-1.041, 1.06]</td>\n      <td>(-0.005, 0.25]</td>\n    </tr>\n    <tr>\n      <th>2</th>\n      <td>33.0</td>\n      <td>entrepreneur</td>\n      <td>married</td>\n      <td>secondary</td>\n      <td>no</td>\n      <td>2.0</td>\n      <td>yes</td>\n      <td>yes</td>\n      <td>unknown</td>\n      <td>5</td>\n      <td>...</td>\n      <td>0.0</td>\n      <td>unknown</td>\n      <td>0</td>\n      <td>(32.1, 34.45]</td>\n      <td>(-308.55, 392.4]</td>\n      <td>(4.0, 5.5]</td>\n      <td>(-1.994, 99.7]</td>\n      <td>(0.991, 1.45]</td>\n      <td>(-1.041, 1.06]</td>\n      <td>(-0.005, 0.25]</td>\n    </tr>\n    <tr>\n      <th>3</th>\n      <td>47.0</td>\n      <td>blue-collar</td>\n      <td>married</td>\n      <td>unknown</td>\n      <td>no</td>\n      <td>1506.0</td>\n      <td>yes</td>\n      <td>no</td>\n      <td>unknown</td>\n      <td>5</td>\n      <td>...</td>\n      <td>0.0</td>\n      <td>unknown</td>\n      <td>0</td>\n      <td>(46.2, 48.55]</td>\n      <td>(1093.35, 1794.3]</td>\n      <td>(4.0, 5.5]</td>\n      <td>(-1.994, 99.7]</td>\n      <td>(0.991, 1.45]</td>\n      <td>(-1.041, 1.06]</td>\n      <td>(-0.005, 0.25]</td>\n    </tr>\n    <tr>\n      <th>4</th>\n      <td>33.0</td>\n      <td>unknown</td>\n      <td>single</td>\n      <td>unknown</td>\n      <td>no</td>\n      <td>1.0</td>\n      <td>no</td>\n      <td>no</td>\n      <td>unknown</td>\n      <td>5</td>\n      <td>...</td>\n      <td>0.0</td>\n      <td>unknown</td>\n      <td>0</td>\n      <td>(32.1, 34.45]</td>\n      <td>(-308.55, 392.4]</td>\n      <td>(4.0, 5.5]</td>\n      <td>(99.7, 199.4]</td>\n      <td>(0.991, 1.45]</td>\n      <td>(-1.041, 1.06]</td>\n      <td>(-0.005, 0.25]</td>\n    </tr>\n  </tbody>\n</table>\n<p>5 rows × 24 columns</p>\n</div>"
     },
     "execution_count": 397,
     "metadata": {},
     "output_type": "execute_result"
    }
   ],
   "source": [
    "full_data.head()"
   ],
   "metadata": {
    "collapsed": false,
    "pycharm": {
     "name": "#%%\n"
    }
   }
  },
  {
   "cell_type": "code",
   "execution_count": 398,
   "outputs": [
    {
     "data": {
      "text/plain": "    age           job  marital  education default  balance housing loan  \\\n0  58.0    management  married   tertiary      no   2143.0     yes   no   \n1  44.0    technician   single  secondary      no     29.0     yes   no   \n2  33.0  entrepreneur  married  secondary      no      2.0     yes  yes   \n3  47.0   blue-collar  married    unknown      no   1506.0     yes   no   \n4  33.0       unknown   single    unknown      no      1.0      no   no   \n\n   contact  day  ... previous  poutcome  y       age_band       balance_band  \\\n0  unknown    5  ...      0.0   unknown  0  (57.95, 60.3]  (1794.3, 2495.25]   \n1  unknown    5  ...      0.0   unknown  0  (43.85, 46.2]   (-308.55, 392.4]   \n2  unknown    5  ...      0.0   unknown  0  (32.1, 34.45]   (-308.55, 392.4]   \n3  unknown    5  ...      0.0   unknown  0  (46.2, 48.55]  (1093.35, 1794.3]   \n4  unknown    5  ...      0.0   unknown  0  (32.1, 34.45]   (-308.55, 392.4]   \n\n     day_band   duration_band  campaign_band      pdays_band   previous_band  \n0  (4.0, 5.5]  (199.4, 299.1]  (0.991, 1.45]  (-1.041, 1.06]  (-0.005, 0.25]  \n1  (4.0, 5.5]   (99.7, 199.4]  (0.991, 1.45]  (-1.041, 1.06]  (-0.005, 0.25]  \n2  (4.0, 5.5]  (-1.994, 99.7]  (0.991, 1.45]  (-1.041, 1.06]  (-0.005, 0.25]  \n3  (4.0, 5.5]  (-1.994, 99.7]  (0.991, 1.45]  (-1.041, 1.06]  (-0.005, 0.25]  \n4  (4.0, 5.5]   (99.7, 199.4]  (0.991, 1.45]  (-1.041, 1.06]  (-0.005, 0.25]  \n\n[5 rows x 24 columns]",
      "text/html": "<div>\n<style scoped>\n    .dataframe tbody tr th:only-of-type {\n        vertical-align: middle;\n    }\n\n    .dataframe tbody tr th {\n        vertical-align: top;\n    }\n\n    .dataframe thead th {\n        text-align: right;\n    }\n</style>\n<table border=\"1\" class=\"dataframe\">\n  <thead>\n    <tr style=\"text-align: right;\">\n      <th></th>\n      <th>age</th>\n      <th>job</th>\n      <th>marital</th>\n      <th>education</th>\n      <th>default</th>\n      <th>balance</th>\n      <th>housing</th>\n      <th>loan</th>\n      <th>contact</th>\n      <th>day</th>\n      <th>...</th>\n      <th>previous</th>\n      <th>poutcome</th>\n      <th>y</th>\n      <th>age_band</th>\n      <th>balance_band</th>\n      <th>day_band</th>\n      <th>duration_band</th>\n      <th>campaign_band</th>\n      <th>pdays_band</th>\n      <th>previous_band</th>\n    </tr>\n  </thead>\n  <tbody>\n    <tr>\n      <th>0</th>\n      <td>58.0</td>\n      <td>management</td>\n      <td>married</td>\n      <td>tertiary</td>\n      <td>no</td>\n      <td>2143.0</td>\n      <td>yes</td>\n      <td>no</td>\n      <td>unknown</td>\n      <td>5</td>\n      <td>...</td>\n      <td>0.0</td>\n      <td>unknown</td>\n      <td>0</td>\n      <td>(57.95, 60.3]</td>\n      <td>(1794.3, 2495.25]</td>\n      <td>(4.0, 5.5]</td>\n      <td>(199.4, 299.1]</td>\n      <td>(0.991, 1.45]</td>\n      <td>(-1.041, 1.06]</td>\n      <td>(-0.005, 0.25]</td>\n    </tr>\n    <tr>\n      <th>1</th>\n      <td>44.0</td>\n      <td>technician</td>\n      <td>single</td>\n      <td>secondary</td>\n      <td>no</td>\n      <td>29.0</td>\n      <td>yes</td>\n      <td>no</td>\n      <td>unknown</td>\n      <td>5</td>\n      <td>...</td>\n      <td>0.0</td>\n      <td>unknown</td>\n      <td>0</td>\n      <td>(43.85, 46.2]</td>\n      <td>(-308.55, 392.4]</td>\n      <td>(4.0, 5.5]</td>\n      <td>(99.7, 199.4]</td>\n      <td>(0.991, 1.45]</td>\n      <td>(-1.041, 1.06]</td>\n      <td>(-0.005, 0.25]</td>\n    </tr>\n    <tr>\n      <th>2</th>\n      <td>33.0</td>\n      <td>entrepreneur</td>\n      <td>married</td>\n      <td>secondary</td>\n      <td>no</td>\n      <td>2.0</td>\n      <td>yes</td>\n      <td>yes</td>\n      <td>unknown</td>\n      <td>5</td>\n      <td>...</td>\n      <td>0.0</td>\n      <td>unknown</td>\n      <td>0</td>\n      <td>(32.1, 34.45]</td>\n      <td>(-308.55, 392.4]</td>\n      <td>(4.0, 5.5]</td>\n      <td>(-1.994, 99.7]</td>\n      <td>(0.991, 1.45]</td>\n      <td>(-1.041, 1.06]</td>\n      <td>(-0.005, 0.25]</td>\n    </tr>\n    <tr>\n      <th>3</th>\n      <td>47.0</td>\n      <td>blue-collar</td>\n      <td>married</td>\n      <td>unknown</td>\n      <td>no</td>\n      <td>1506.0</td>\n      <td>yes</td>\n      <td>no</td>\n      <td>unknown</td>\n      <td>5</td>\n      <td>...</td>\n      <td>0.0</td>\n      <td>unknown</td>\n      <td>0</td>\n      <td>(46.2, 48.55]</td>\n      <td>(1093.35, 1794.3]</td>\n      <td>(4.0, 5.5]</td>\n      <td>(-1.994, 99.7]</td>\n      <td>(0.991, 1.45]</td>\n      <td>(-1.041, 1.06]</td>\n      <td>(-0.005, 0.25]</td>\n    </tr>\n    <tr>\n      <th>4</th>\n      <td>33.0</td>\n      <td>unknown</td>\n      <td>single</td>\n      <td>unknown</td>\n      <td>no</td>\n      <td>1.0</td>\n      <td>no</td>\n      <td>no</td>\n      <td>unknown</td>\n      <td>5</td>\n      <td>...</td>\n      <td>0.0</td>\n      <td>unknown</td>\n      <td>0</td>\n      <td>(32.1, 34.45]</td>\n      <td>(-308.55, 392.4]</td>\n      <td>(4.0, 5.5]</td>\n      <td>(99.7, 199.4]</td>\n      <td>(0.991, 1.45]</td>\n      <td>(-1.041, 1.06]</td>\n      <td>(-0.005, 0.25]</td>\n    </tr>\n  </tbody>\n</table>\n<p>5 rows × 24 columns</p>\n</div>"
     },
     "execution_count": 398,
     "metadata": {},
     "output_type": "execute_result"
    }
   ],
   "source": [
    "full_data.head()"
   ],
   "metadata": {
    "collapsed": false,
    "pycharm": {
     "name": "#%%\n"
    }
   }
  },
  {
   "cell_type": "code",
   "execution_count": 399,
   "outputs": [
    {
     "data": {
      "text/plain": "0    0.883015\n1    0.116985\nName: y, dtype: float64"
     },
     "execution_count": 399,
     "metadata": {},
     "output_type": "execute_result"
    }
   ],
   "source": [
    "full_data['y'].value_counts(normalize=True)"
   ],
   "metadata": {
    "collapsed": false,
    "pycharm": {
     "name": "#%%\n"
    }
   }
  },
  {
   "cell_type": "code",
   "execution_count": 400,
   "outputs": [
    {
     "name": "stdout",
     "output_type": "stream",
     "text": [
      "<class 'pandas.core.frame.DataFrame'>\n",
      "RangeIndex: 45211 entries, 0 to 45210\n",
      "Data columns (total 24 columns):\n",
      " #   Column         Non-Null Count  Dtype   \n",
      "---  ------         --------------  -----   \n",
      " 0   age            45211 non-null  float64 \n",
      " 1   job            45211 non-null  object  \n",
      " 2   marital        45211 non-null  object  \n",
      " 3   education      45211 non-null  object  \n",
      " 4   default        45211 non-null  object  \n",
      " 5   balance        45211 non-null  float64 \n",
      " 6   housing        45211 non-null  object  \n",
      " 7   loan           45211 non-null  object  \n",
      " 8   contact        45211 non-null  object  \n",
      " 9   day            45211 non-null  int64   \n",
      " 10  month          45211 non-null  object  \n",
      " 11  duration       45211 non-null  float64 \n",
      " 12  campaign       45211 non-null  float64 \n",
      " 13  pdays          45211 non-null  float64 \n",
      " 14  previous       45211 non-null  float64 \n",
      " 15  poutcome       45211 non-null  object  \n",
      " 16  y              45211 non-null  int32   \n",
      " 17  age_band       45211 non-null  category\n",
      " 18  balance_band   45211 non-null  category\n",
      " 19  day_band       45211 non-null  category\n",
      " 20  duration_band  45211 non-null  category\n",
      " 21  campaign_band  45211 non-null  category\n",
      " 22  pdays_band     45211 non-null  category\n",
      " 23  previous_band  45211 non-null  category\n",
      "dtypes: category(7), float64(6), int32(1), int64(1), object(9)\n",
      "memory usage: 6.0+ MB\n"
     ]
    }
   ],
   "source": [
    "full_data.info()"
   ],
   "metadata": {
    "collapsed": false,
    "pycharm": {
     "name": "#%%\n"
    }
   }
  },
  {
   "cell_type": "code",
   "execution_count": 401,
   "outputs": [
    {
     "data": {
      "text/plain": "no     0.839774\nyes    0.160226\nName: loan, dtype: float64"
     },
     "execution_count": 401,
     "metadata": {},
     "output_type": "execute_result"
    }
   ],
   "source": [
    "full_data['loan'].value_counts(normalize=True)"
   ],
   "metadata": {
    "collapsed": false,
    "pycharm": {
     "name": "#%%\n"
    }
   }
  },
  {
   "cell_type": "markdown",
   "source": [
    "   Input variables:\n",
    "   # bank client data:\n",
    "   1 - age (numeric)\n",
    "   2 - job : type of job (categorical: \"admin.\",\"blue-collar\",\"entrepreneur\",\"housemaid\",\"management\",\"retired\",\"self-employed\",\"services\",\"student\",\"technician\",\"unemployed\",\"unknown\")\n",
    "   3 - marital : marital status (categorical: \"divorced\",\"married\",\"single\",\"unknown\"; note: \"divorced\" means divorced or widowed)\n",
    "   4 - education (categorical: \"basic.4y\",\"basic.6y\",\"basic.9y\",\"high.school\",\"illiterate\",\"professional.course\",\"university.degree\",\"unknown\")\n",
    "   5 - default: has credit in default? (categorical: \"no\",\"yes\",\"unknown\")\n",
    "   6 - housing: has housing loan? (categorical: \"no\",\"yes\",\"unknown\")\n",
    "   7 - loan: has personal loan? (categorical: \"no\",\"yes\",\"unknown\")\n",
    "   # related with the last contact of the current campaign:\n",
    "   8 - contact: contact communication type (categorical: \"cellular\",\"telephone\")\n",
    "   9 - month: last contact month of year (categorical: \"jan\", \"feb\", \"mar\", ..., \"nov\", \"dec\")\n",
    "  10 - day_of_week: last contact day of the week (categorical: \"mon\",\"tue\",\"wed\",\"thu\",\"fri\")\n",
    "  11 - duration: last contact duration, in seconds (numeric). Important note:  this attribute highly affects the output target (e.g., if duration=0 then y=\"no\"). Yet, the duration is not known before a call is performed. Also, after the end of the call y is obviously known. Thus, this input should only be included for benchmark purposes and should be discarded if the intention is to have a realistic predictive model.\n",
    "   # other attributes:\n",
    "  12 - campaign: number of contacts performed during this campaign and for this client (numeric, includes last contact)\n",
    "  13 - pdays: number of days that passed by after the client was last contacted from a previous campaign (numeric; 999 means client was not previously contacted)\n",
    "  14 - previous: number of contacts performed before this campaign and for this client (numeric)\n",
    "  15 - poutcome: outcome of the previous marketing campaign (categorical: \"failure\",\"nonexistent\",\"success\")\n",
    "   # social and economic context attributes\n",
    "  16 - emp.var.rate: employment variation rate - quarterly indicator (numeric)\n",
    "  17 - cons.price.idx: consumer price index - monthly indicator (numeric)\n",
    "  18 - cons.conf.idx: consumer confidence index - monthly indicator (numeric)\n",
    "  19 - euribor3m: euribor 3 month rate - daily indicator (numeric)\n",
    "  20 - nr.employed: number of employees - quarterly indicator (numeric)"
   ],
   "metadata": {
    "collapsed": false,
    "pycharm": {
     "name": "#%% md\n"
    }
   }
  },
  {
   "cell_type": "markdown",
   "source": [
    "   Input variables:\n",
    "   # bank client data:\n",
    "   1 - age (numeric)\n",
    "   2 - job : type of job (categorical: \"admin.\",\"unknown\",\"unemployed\",\"management\",\"housemaid\",\"entrepreneur\",\"student\",\n",
    "                                       \"blue-collar\",\"self-employed\",\"retired\",\"technician\",\"services\")\n",
    "   3 - marital : marital status (categorical: \"married\",\"divorced\",\"single\"; note: \"divorced\" means divorced or widowed)\n",
    "   4 - education (categorical: \"unknown\",\"secondary\",\"primary\",\"tertiary\")\n",
    "   5 - default: has credit in default? (binary: \"yes\",\"no\")\n",
    "   6 - balance: average yearly balance, in euros (numeric)\n",
    "   7 - housing: has housing loan? (binary: \"yes\",\"no\")\n",
    "   8 - loan: has personal loan? (binary: \"yes\",\"no\")\n",
    "   # related with the last contact of the current campaign:\n",
    "   9 - contact: contact communication type (categorical: \"unknown\",\"telephone\",\"cellular\")\n",
    "  10 - day: last contact day of the month (numeric)\n",
    "  11 - month: last contact month of year (categorical: \"jan\", \"feb\", \"mar\", ..., \"nov\", \"dec\")\n",
    "  12 - duration: last contact duration, in seconds (numeric)\n",
    "   # other attributes:\n",
    "  13 - campaign: number of contacts performed during this campaign and for this client (numeric, includes last contact)\n",
    "  14 - pdays: number of days that passed by after the client was last contacted from a previous campaign (numeric, -1 means client was not previously contacted)\n",
    "  15 - previous: number of contacts performed before this campaign and for this client (numeric)\n",
    "  16 - poutcome: outcome of the previous marketing campaign (categorical: \"unknown\",\"other\",\"failure\",\"success\")\n",
    "\n",
    "  Output variable (desired target):\n",
    "  17 - y - has the client subscribed a term deposit? (binary: \"yes\",\"no\")"
   ],
   "metadata": {
    "collapsed": false,
    "pycharm": {
     "name": "#%% md\n"
    }
   }
  },
  {
   "cell_type": "code",
   "execution_count": 402,
   "outputs": [],
   "source": [
    "# full_data[ 'loan' ].replace({'unknown':None},inplace=True)\n",
    "# full_data[ 'loan' ].replace({'unknown':None},inplace=True)\n",
    "# full_data[ 'loan' ].replace({'unknown':None},inplace=True)\n",
    "# full_data[ 'loan' ].replace({'unknown':None},inplace=True)\n",
    "# full_data[ 'loan' ].replace({'unknown':None},inplace=True)\n",
    "# full_data[ 'loan' ].replace({'unknown':None},inplace=True)\n",
    "# full_data[ 'loan' ].replace({'unknown':None},inplace=True)\n",
    "# full_data[ 'loan' ].replace({'unknown':None},inplace=True)"
   ],
   "metadata": {
    "collapsed": false,
    "pycharm": {
     "name": "#%%\n"
    }
   }
  },
  {
   "cell_type": "code",
   "execution_count": 403,
   "outputs": [],
   "source": [
    "# full_data['loan'].value_counts(normalize=True)"
   ],
   "metadata": {
    "collapsed": false,
    "pycharm": {
     "name": "#%%\n"
    }
   }
  },
  {
   "cell_type": "code",
   "execution_count": 404,
   "outputs": [
    {
     "name": "stdout",
     "output_type": "stream",
     "text": [
      "<class 'pandas.core.frame.DataFrame'>\n",
      "RangeIndex: 45211 entries, 0 to 45210\n",
      "Data columns (total 24 columns):\n",
      " #   Column         Non-Null Count  Dtype   \n",
      "---  ------         --------------  -----   \n",
      " 0   age            45211 non-null  float64 \n",
      " 1   job            45211 non-null  object  \n",
      " 2   marital        45211 non-null  object  \n",
      " 3   education      45211 non-null  object  \n",
      " 4   default        45211 non-null  object  \n",
      " 5   balance        45211 non-null  float64 \n",
      " 6   housing        45211 non-null  object  \n",
      " 7   loan           45211 non-null  object  \n",
      " 8   contact        45211 non-null  object  \n",
      " 9   day            45211 non-null  int64   \n",
      " 10  month          45211 non-null  object  \n",
      " 11  duration       45211 non-null  float64 \n",
      " 12  campaign       45211 non-null  float64 \n",
      " 13  pdays          45211 non-null  float64 \n",
      " 14  previous       45211 non-null  float64 \n",
      " 15  poutcome       45211 non-null  object  \n",
      " 16  y              45211 non-null  int32   \n",
      " 17  age_band       45211 non-null  category\n",
      " 18  balance_band   45211 non-null  category\n",
      " 19  day_band       45211 non-null  category\n",
      " 20  duration_band  45211 non-null  category\n",
      " 21  campaign_band  45211 non-null  category\n",
      " 22  pdays_band     45211 non-null  category\n",
      " 23  previous_band  45211 non-null  category\n",
      "dtypes: category(7), float64(6), int32(1), int64(1), object(9)\n",
      "memory usage: 6.0+ MB\n"
     ]
    }
   ],
   "source": [
    "full_data.info()"
   ],
   "metadata": {
    "collapsed": false,
    "pycharm": {
     "name": "#%%\n"
    }
   }
  },
  {
   "cell_type": "code",
   "execution_count": 405,
   "outputs": [
    {
     "data": {
      "text/plain": "    age           job  marital  education default  balance housing loan  \\\n0  58.0    management  married   tertiary      no   2143.0     yes   no   \n1  44.0    technician   single  secondary      no     29.0     yes   no   \n2  33.0  entrepreneur  married  secondary      no      2.0     yes  yes   \n3  47.0   blue-collar  married    unknown      no   1506.0     yes   no   \n4  33.0       unknown   single    unknown      no      1.0      no   no   \n\n   contact  day  ... previous  poutcome  y       age_band       balance_band  \\\n0  unknown    5  ...      0.0   unknown  0  (57.95, 60.3]  (1794.3, 2495.25]   \n1  unknown    5  ...      0.0   unknown  0  (43.85, 46.2]   (-308.55, 392.4]   \n2  unknown    5  ...      0.0   unknown  0  (32.1, 34.45]   (-308.55, 392.4]   \n3  unknown    5  ...      0.0   unknown  0  (46.2, 48.55]  (1093.35, 1794.3]   \n4  unknown    5  ...      0.0   unknown  0  (32.1, 34.45]   (-308.55, 392.4]   \n\n     day_band   duration_band  campaign_band      pdays_band   previous_band  \n0  (4.0, 5.5]  (199.4, 299.1]  (0.991, 1.45]  (-1.041, 1.06]  (-0.005, 0.25]  \n1  (4.0, 5.5]   (99.7, 199.4]  (0.991, 1.45]  (-1.041, 1.06]  (-0.005, 0.25]  \n2  (4.0, 5.5]  (-1.994, 99.7]  (0.991, 1.45]  (-1.041, 1.06]  (-0.005, 0.25]  \n3  (4.0, 5.5]  (-1.994, 99.7]  (0.991, 1.45]  (-1.041, 1.06]  (-0.005, 0.25]  \n4  (4.0, 5.5]   (99.7, 199.4]  (0.991, 1.45]  (-1.041, 1.06]  (-0.005, 0.25]  \n\n[5 rows x 24 columns]",
      "text/html": "<div>\n<style scoped>\n    .dataframe tbody tr th:only-of-type {\n        vertical-align: middle;\n    }\n\n    .dataframe tbody tr th {\n        vertical-align: top;\n    }\n\n    .dataframe thead th {\n        text-align: right;\n    }\n</style>\n<table border=\"1\" class=\"dataframe\">\n  <thead>\n    <tr style=\"text-align: right;\">\n      <th></th>\n      <th>age</th>\n      <th>job</th>\n      <th>marital</th>\n      <th>education</th>\n      <th>default</th>\n      <th>balance</th>\n      <th>housing</th>\n      <th>loan</th>\n      <th>contact</th>\n      <th>day</th>\n      <th>...</th>\n      <th>previous</th>\n      <th>poutcome</th>\n      <th>y</th>\n      <th>age_band</th>\n      <th>balance_band</th>\n      <th>day_band</th>\n      <th>duration_band</th>\n      <th>campaign_band</th>\n      <th>pdays_band</th>\n      <th>previous_band</th>\n    </tr>\n  </thead>\n  <tbody>\n    <tr>\n      <th>0</th>\n      <td>58.0</td>\n      <td>management</td>\n      <td>married</td>\n      <td>tertiary</td>\n      <td>no</td>\n      <td>2143.0</td>\n      <td>yes</td>\n      <td>no</td>\n      <td>unknown</td>\n      <td>5</td>\n      <td>...</td>\n      <td>0.0</td>\n      <td>unknown</td>\n      <td>0</td>\n      <td>(57.95, 60.3]</td>\n      <td>(1794.3, 2495.25]</td>\n      <td>(4.0, 5.5]</td>\n      <td>(199.4, 299.1]</td>\n      <td>(0.991, 1.45]</td>\n      <td>(-1.041, 1.06]</td>\n      <td>(-0.005, 0.25]</td>\n    </tr>\n    <tr>\n      <th>1</th>\n      <td>44.0</td>\n      <td>technician</td>\n      <td>single</td>\n      <td>secondary</td>\n      <td>no</td>\n      <td>29.0</td>\n      <td>yes</td>\n      <td>no</td>\n      <td>unknown</td>\n      <td>5</td>\n      <td>...</td>\n      <td>0.0</td>\n      <td>unknown</td>\n      <td>0</td>\n      <td>(43.85, 46.2]</td>\n      <td>(-308.55, 392.4]</td>\n      <td>(4.0, 5.5]</td>\n      <td>(99.7, 199.4]</td>\n      <td>(0.991, 1.45]</td>\n      <td>(-1.041, 1.06]</td>\n      <td>(-0.005, 0.25]</td>\n    </tr>\n    <tr>\n      <th>2</th>\n      <td>33.0</td>\n      <td>entrepreneur</td>\n      <td>married</td>\n      <td>secondary</td>\n      <td>no</td>\n      <td>2.0</td>\n      <td>yes</td>\n      <td>yes</td>\n      <td>unknown</td>\n      <td>5</td>\n      <td>...</td>\n      <td>0.0</td>\n      <td>unknown</td>\n      <td>0</td>\n      <td>(32.1, 34.45]</td>\n      <td>(-308.55, 392.4]</td>\n      <td>(4.0, 5.5]</td>\n      <td>(-1.994, 99.7]</td>\n      <td>(0.991, 1.45]</td>\n      <td>(-1.041, 1.06]</td>\n      <td>(-0.005, 0.25]</td>\n    </tr>\n    <tr>\n      <th>3</th>\n      <td>47.0</td>\n      <td>blue-collar</td>\n      <td>married</td>\n      <td>unknown</td>\n      <td>no</td>\n      <td>1506.0</td>\n      <td>yes</td>\n      <td>no</td>\n      <td>unknown</td>\n      <td>5</td>\n      <td>...</td>\n      <td>0.0</td>\n      <td>unknown</td>\n      <td>0</td>\n      <td>(46.2, 48.55]</td>\n      <td>(1093.35, 1794.3]</td>\n      <td>(4.0, 5.5]</td>\n      <td>(-1.994, 99.7]</td>\n      <td>(0.991, 1.45]</td>\n      <td>(-1.041, 1.06]</td>\n      <td>(-0.005, 0.25]</td>\n    </tr>\n    <tr>\n      <th>4</th>\n      <td>33.0</td>\n      <td>unknown</td>\n      <td>single</td>\n      <td>unknown</td>\n      <td>no</td>\n      <td>1.0</td>\n      <td>no</td>\n      <td>no</td>\n      <td>unknown</td>\n      <td>5</td>\n      <td>...</td>\n      <td>0.0</td>\n      <td>unknown</td>\n      <td>0</td>\n      <td>(32.1, 34.45]</td>\n      <td>(-308.55, 392.4]</td>\n      <td>(4.0, 5.5]</td>\n      <td>(99.7, 199.4]</td>\n      <td>(0.991, 1.45]</td>\n      <td>(-1.041, 1.06]</td>\n      <td>(-0.005, 0.25]</td>\n    </tr>\n  </tbody>\n</table>\n<p>5 rows × 24 columns</p>\n</div>"
     },
     "execution_count": 405,
     "metadata": {},
     "output_type": "execute_result"
    }
   ],
   "source": [
    "from sklearn.preprocessing import LabelEncoder\n",
    "\n",
    "# full_data[ 'y' == 'no'] = 0\n",
    "# full_data[ 'y' == 'yes'] = 1\n",
    "#\n",
    "# full_data[ 'default' == 'no'] = 0\n",
    "# full_data[ 'default' == 'yes'] = 1\n",
    "#\n",
    "# full_data[ 'housing' == 'no'] = 0\n",
    "# full_data[ 'housing' == 'yes'] = 1\n",
    "#\n",
    "# full_data[ 'loan' == 'no'] = 0\n",
    "# full_data[ 'loan' == 'yes'] = 1\n",
    "label_encoder = LabelEncoder()\n",
    "full_data['y'] = label_encoder.fit_transform(full_data['y'])\n",
    "# full_data['default'] = label_encoder.fit_transform(full_data['default'])\n",
    "# full_data['housing'] = label_encoder.fit_transform(full_data['housing'])\n",
    "# full_data['loan'] = label_encoder.fit_transform(full_data['loan'])\n",
    "# full_data['loan'] = label_encoder.fit_transform(full_data['loan'])\n",
    "# full_data['loan'] = label_encoder.fit_transform(full_data['loan'])\n",
    "# full_data['loan'] = label_encoder.fit_transform(full_data['loan'])\n",
    "# full_data['loan'] = label_encoder.fit_transform(full_data['loan'])\n",
    "full_data.head()"
   ],
   "metadata": {
    "collapsed": false,
    "pycharm": {
     "name": "#%%\n"
    }
   }
  },
  {
   "cell_type": "code",
   "execution_count": 406,
   "outputs": [
    {
     "data": {
      "text/plain": "0    0.883015\n1    0.116985\nName: y, dtype: float64"
     },
     "execution_count": 406,
     "metadata": {},
     "output_type": "execute_result"
    }
   ],
   "source": [
    "full_data['y'].value_counts(normalize=True)"
   ],
   "metadata": {
    "collapsed": false,
    "pycharm": {
     "name": "#%%\n"
    }
   }
  },
  {
   "cell_type": "code",
   "execution_count": 407,
   "outputs": [
    {
     "data": {
      "text/plain": "                job  marital  education default housing   loan   contact  \\\ncount         45211    45211      45211   45211   45211  45211     45211   \nunique           12        3          4       2       2      2         3   \ntop     blue-collar  married  secondary      no     yes     no  cellular   \nfreq           9732    27214      23202   44396   25130  37967     29285   \n\n        month poutcome  \ncount   45211    45211  \nunique     12        4  \ntop       may  unknown  \nfreq    13766    36959  ",
      "text/html": "<div>\n<style scoped>\n    .dataframe tbody tr th:only-of-type {\n        vertical-align: middle;\n    }\n\n    .dataframe tbody tr th {\n        vertical-align: top;\n    }\n\n    .dataframe thead th {\n        text-align: right;\n    }\n</style>\n<table border=\"1\" class=\"dataframe\">\n  <thead>\n    <tr style=\"text-align: right;\">\n      <th></th>\n      <th>job</th>\n      <th>marital</th>\n      <th>education</th>\n      <th>default</th>\n      <th>housing</th>\n      <th>loan</th>\n      <th>contact</th>\n      <th>month</th>\n      <th>poutcome</th>\n    </tr>\n  </thead>\n  <tbody>\n    <tr>\n      <th>count</th>\n      <td>45211</td>\n      <td>45211</td>\n      <td>45211</td>\n      <td>45211</td>\n      <td>45211</td>\n      <td>45211</td>\n      <td>45211</td>\n      <td>45211</td>\n      <td>45211</td>\n    </tr>\n    <tr>\n      <th>unique</th>\n      <td>12</td>\n      <td>3</td>\n      <td>4</td>\n      <td>2</td>\n      <td>2</td>\n      <td>2</td>\n      <td>3</td>\n      <td>12</td>\n      <td>4</td>\n    </tr>\n    <tr>\n      <th>top</th>\n      <td>blue-collar</td>\n      <td>married</td>\n      <td>secondary</td>\n      <td>no</td>\n      <td>yes</td>\n      <td>no</td>\n      <td>cellular</td>\n      <td>may</td>\n      <td>unknown</td>\n    </tr>\n    <tr>\n      <th>freq</th>\n      <td>9732</td>\n      <td>27214</td>\n      <td>23202</td>\n      <td>44396</td>\n      <td>25130</td>\n      <td>37967</td>\n      <td>29285</td>\n      <td>13766</td>\n      <td>36959</td>\n    </tr>\n  </tbody>\n</table>\n</div>"
     },
     "execution_count": 407,
     "metadata": {},
     "output_type": "execute_result"
    }
   ],
   "source": [
    "full_data.describe(include=['O'])"
   ],
   "metadata": {
    "collapsed": false,
    "pycharm": {
     "name": "#%%\n"
    }
   }
  },
  {
   "cell_type": "code",
   "execution_count": 408,
   "outputs": [
    {
     "name": "stdout",
     "output_type": "stream",
     "text": [
      "<class 'pandas.core.frame.DataFrame'>\n",
      "RangeIndex: 45211 entries, 0 to 45210\n",
      "Data columns (total 24 columns):\n",
      " #   Column         Non-Null Count  Dtype   \n",
      "---  ------         --------------  -----   \n",
      " 0   age            45211 non-null  float64 \n",
      " 1   job            45211 non-null  object  \n",
      " 2   marital        45211 non-null  object  \n",
      " 3   education      45211 non-null  object  \n",
      " 4   default        45211 non-null  object  \n",
      " 5   balance        45211 non-null  float64 \n",
      " 6   housing        45211 non-null  object  \n",
      " 7   loan           45211 non-null  object  \n",
      " 8   contact        45211 non-null  object  \n",
      " 9   day            45211 non-null  int64   \n",
      " 10  month          45211 non-null  object  \n",
      " 11  duration       45211 non-null  float64 \n",
      " 12  campaign       45211 non-null  float64 \n",
      " 13  pdays          45211 non-null  float64 \n",
      " 14  previous       45211 non-null  float64 \n",
      " 15  poutcome       45211 non-null  object  \n",
      " 16  y              45211 non-null  int64   \n",
      " 17  age_band       45211 non-null  category\n",
      " 18  balance_band   45211 non-null  category\n",
      " 19  day_band       45211 non-null  category\n",
      " 20  duration_band  45211 non-null  category\n",
      " 21  campaign_band  45211 non-null  category\n",
      " 22  pdays_band     45211 non-null  category\n",
      " 23  previous_band  45211 non-null  category\n",
      "dtypes: category(7), float64(6), int64(2), object(9)\n",
      "memory usage: 6.2+ MB\n"
     ]
    }
   ],
   "source": [
    "full_data.info()"
   ],
   "metadata": {
    "collapsed": false,
    "pycharm": {
     "name": "#%%\n"
    }
   }
  },
  {
   "cell_type": "code",
   "execution_count": 409,
   "outputs": [
    {
     "data": {
      "text/plain": "                age       balance           day      duration      campaign  \\\ncount  45211.000000  45211.000000  45211.000000  45211.000000  45211.000000   \nmean      40.391743    896.535721     15.806419    255.154379      2.391996   \nstd        9.698391   1225.680016      8.322476    242.792228      1.749001   \nmin       18.000000  -8019.000000      1.000000      0.000000      1.000000   \n25%       33.000000     72.000000      8.000000    103.000000      1.000000   \n50%       39.000000    448.000000     16.000000    180.000000      2.000000   \n75%       48.000000   1362.272058     21.000000    318.000000      3.000000   \nmax       65.000000   6000.000000     31.000000   1994.000000     10.000000   \n\n              pdays      previous             y  \ncount  45211.000000  45211.000000  45211.000000  \nmean       6.395229      0.357844      0.116985  \nstd       15.773364      0.928093      0.321406  \nmin       -1.000000      0.000000      0.000000  \n25%       -1.000000      0.000000      0.000000  \n50%       -1.000000      0.000000      0.000000  \n75%       -1.000000      0.000000      0.000000  \nmax       40.197828      5.000000      1.000000  ",
      "text/html": "<div>\n<style scoped>\n    .dataframe tbody tr th:only-of-type {\n        vertical-align: middle;\n    }\n\n    .dataframe tbody tr th {\n        vertical-align: top;\n    }\n\n    .dataframe thead th {\n        text-align: right;\n    }\n</style>\n<table border=\"1\" class=\"dataframe\">\n  <thead>\n    <tr style=\"text-align: right;\">\n      <th></th>\n      <th>age</th>\n      <th>balance</th>\n      <th>day</th>\n      <th>duration</th>\n      <th>campaign</th>\n      <th>pdays</th>\n      <th>previous</th>\n      <th>y</th>\n    </tr>\n  </thead>\n  <tbody>\n    <tr>\n      <th>count</th>\n      <td>45211.000000</td>\n      <td>45211.000000</td>\n      <td>45211.000000</td>\n      <td>45211.000000</td>\n      <td>45211.000000</td>\n      <td>45211.000000</td>\n      <td>45211.000000</td>\n      <td>45211.000000</td>\n    </tr>\n    <tr>\n      <th>mean</th>\n      <td>40.391743</td>\n      <td>896.535721</td>\n      <td>15.806419</td>\n      <td>255.154379</td>\n      <td>2.391996</td>\n      <td>6.395229</td>\n      <td>0.357844</td>\n      <td>0.116985</td>\n    </tr>\n    <tr>\n      <th>std</th>\n      <td>9.698391</td>\n      <td>1225.680016</td>\n      <td>8.322476</td>\n      <td>242.792228</td>\n      <td>1.749001</td>\n      <td>15.773364</td>\n      <td>0.928093</td>\n      <td>0.321406</td>\n    </tr>\n    <tr>\n      <th>min</th>\n      <td>18.000000</td>\n      <td>-8019.000000</td>\n      <td>1.000000</td>\n      <td>0.000000</td>\n      <td>1.000000</td>\n      <td>-1.000000</td>\n      <td>0.000000</td>\n      <td>0.000000</td>\n    </tr>\n    <tr>\n      <th>25%</th>\n      <td>33.000000</td>\n      <td>72.000000</td>\n      <td>8.000000</td>\n      <td>103.000000</td>\n      <td>1.000000</td>\n      <td>-1.000000</td>\n      <td>0.000000</td>\n      <td>0.000000</td>\n    </tr>\n    <tr>\n      <th>50%</th>\n      <td>39.000000</td>\n      <td>448.000000</td>\n      <td>16.000000</td>\n      <td>180.000000</td>\n      <td>2.000000</td>\n      <td>-1.000000</td>\n      <td>0.000000</td>\n      <td>0.000000</td>\n    </tr>\n    <tr>\n      <th>75%</th>\n      <td>48.000000</td>\n      <td>1362.272058</td>\n      <td>21.000000</td>\n      <td>318.000000</td>\n      <td>3.000000</td>\n      <td>-1.000000</td>\n      <td>0.000000</td>\n      <td>0.000000</td>\n    </tr>\n    <tr>\n      <th>max</th>\n      <td>65.000000</td>\n      <td>6000.000000</td>\n      <td>31.000000</td>\n      <td>1994.000000</td>\n      <td>10.000000</td>\n      <td>40.197828</td>\n      <td>5.000000</td>\n      <td>1.000000</td>\n    </tr>\n  </tbody>\n</table>\n</div>"
     },
     "execution_count": 409,
     "metadata": {},
     "output_type": "execute_result"
    }
   ],
   "source": [
    "full_data.describe()"
   ],
   "metadata": {
    "collapsed": false,
    "pycharm": {
     "name": "#%%\n"
    }
   }
  },
  {
   "cell_type": "code",
   "execution_count": 409,
   "outputs": [],
   "source": [],
   "metadata": {
    "collapsed": false,
    "pycharm": {
     "name": "#%%\n"
    }
   }
  },
  {
   "cell_type": "code",
   "execution_count": 409,
   "outputs": [],
   "source": [],
   "metadata": {
    "collapsed": false,
    "pycharm": {
     "name": "#%%\n"
    }
   }
  },
  {
   "cell_type": "code",
   "execution_count": 409,
   "outputs": [],
   "source": [],
   "metadata": {
    "collapsed": false,
    "pycharm": {
     "name": "#%%\n"
    }
   }
  },
  {
   "cell_type": "code",
   "execution_count": 409,
   "outputs": [],
   "source": [],
   "metadata": {
    "collapsed": false,
    "pycharm": {
     "name": "#%%\n"
    }
   }
  },
  {
   "cell_type": "code",
   "execution_count": 410,
   "outputs": [],
   "source": [
    "# dupa"
   ],
   "metadata": {
    "collapsed": false,
    "pycharm": {
     "name": "#%%\n"
    }
   }
  },
  {
   "cell_type": "code",
   "execution_count": 410,
   "outputs": [],
   "source": [],
   "metadata": {
    "collapsed": false,
    "pycharm": {
     "name": "#%%\n"
    }
   }
  },
  {
   "cell_type": "code",
   "execution_count": 410,
   "outputs": [],
   "source": [],
   "metadata": {
    "collapsed": false,
    "pycharm": {
     "name": "#%%\n"
    }
   }
  },
  {
   "cell_type": "markdown",
   "source": [
    "train test split"
   ],
   "metadata": {
    "collapsed": false,
    "pycharm": {
     "name": "#%% md\n"
    }
   }
  },
  {
   "cell_type": "code",
   "execution_count": 411,
   "outputs": [
    {
     "name": "stdout",
     "output_type": "stream",
     "text": [
      "(4521, 24)\n",
      "(4521, 24)\n",
      "X.shape: (3616, 23) y.shape: (3616,)\n",
      "X.shape: (905, 23) y.shape: (905,)\n"
     ]
    }
   ],
   "source": [
    "from sklearn.model_selection import train_test_split\n",
    "\n",
    "from sklearn.model_selection import train_test_split\n",
    "\n",
    "stratified_sample, _ = train_test_split(full_data, test_size=1-0.1, stratify=full_data['y'],random_state=62)\n",
    "print(stratified_sample.shape)\n",
    "cut_data=full_data.sample(frac=0.1, random_state=62)\n",
    "print(cut_data.shape)\n",
    "X = cut_data.drop(['y'], axis=1)\n",
    "y = cut_data['y'].values\n",
    "\n",
    "X_train, X_test, y_train, y_test = train_test_split(X, y, test_size=0.20, random_state=62)\n",
    "print(\"X.shape: {} y.shape: {}\".format(X_train.shape, y_train.shape))\n",
    "print(\"X.shape: {} y.shape: {}\".format(X_test.shape, y_test.shape))"
   ],
   "metadata": {
    "collapsed": false,
    "pycharm": {
     "name": "#%%\n"
    }
   }
  },
  {
   "cell_type": "markdown",
   "source": [
    "pipeline definition"
   ],
   "metadata": {
    "collapsed": false,
    "pycharm": {
     "name": "#%% md\n"
    }
   }
  },
  {
   "cell_type": "code",
   "execution_count": 412,
   "outputs": [],
   "source": [
    "from sklearn.base import BaseEstimator, TransformerMixin\n",
    "\n",
    "# A class to select numerical or categorical columns\n",
    "# since Scikit-Learn doesn't handle DataFrames yet\n",
    "class DataFrameSelector(BaseEstimator, TransformerMixin):\n",
    "    def __init__(self, attribute_names):\n",
    "        self.attribute_names = attribute_names\n",
    "    def fit(self, X, y=None):\n",
    "        return self\n",
    "    def transform(self, X):\n",
    "        return X[self.attribute_names]"
   ],
   "metadata": {
    "collapsed": false,
    "pycharm": {
     "name": "#%%\n"
    }
   }
  },
  {
   "cell_type": "code",
   "execution_count": 413,
   "outputs": [],
   "source": [
    "from sklearn.pipeline import Pipeline\n",
    "from sklearn.impute import SimpleImputer\n",
    "from sklearn.preprocessing import StandardScaler\n",
    "\n",
    "num_pipeline = Pipeline([\n",
    "        (\"select_numeric\", DataFrameSelector([\"balance\",\"day\",\"duration\",\"campaign\",\"pdays\",\"previous\"])),\n",
    "        (\"scaler\", StandardScaler()),\n",
    "        (\"imputer\", SimpleImputer(strategy=\"median\")),\n",
    "    ])"
   ],
   "metadata": {
    "collapsed": false,
    "pycharm": {
     "name": "#%%\n"
    }
   }
  },
  {
   "cell_type": "code",
   "execution_count": 414,
   "outputs": [
    {
     "data": {
      "text/plain": "array([[-0.64405606, -1.05001539, -0.58874665, -0.2278654 , -0.46632135,\n        -0.38465622],\n       [ 0.36958517,  0.52715497, -1.00113237,  0.34471278, -0.46632135,\n        -0.38465622],\n       [ 1.58139749, -1.65661938, -0.91365661, -0.80044358, -0.46632135,\n        -0.38465622],\n       ...,\n       [ 0.66728471,  0.04187178, -0.37630553, -0.80044358, -0.46632135,\n        -0.38465622],\n       [ 0.03318511, -0.44341141,  0.12772146,  0.34471278,  2.15550674,\n         0.23922359],\n       [ 1.79629133, -0.32209061, -0.15553337, -0.2278654 , -0.46632135,\n        -0.38465622]])"
     },
     "execution_count": 414,
     "metadata": {},
     "output_type": "execute_result"
    }
   ],
   "source": [
    "num_pipeline.fit_transform(X_train)"
   ],
   "metadata": {
    "collapsed": false,
    "pycharm": {
     "name": "#%%\n"
    }
   }
  },
  {
   "cell_type": "code",
   "execution_count": 415,
   "outputs": [],
   "source": [
    "# Inspired from stackoverflow.com/questions/25239958\n",
    "class MostFrequentImputer(BaseEstimator, TransformerMixin):\n",
    "    def fit(self, X, y=None):\n",
    "        self.most_frequent_ = pd.Series([X[c].value_counts().index[0] for c in X],\n",
    "                                        index=X.columns)\n",
    "        return self\n",
    "    def transform(self, X, y=None):\n",
    "        return X.fillna(self.most_frequent_)"
   ],
   "metadata": {
    "collapsed": false,
    "pycharm": {
     "name": "#%%\n"
    }
   }
  },
  {
   "cell_type": "code",
   "execution_count": 416,
   "outputs": [],
   "source": [
    "# from future_encoders import OneHotEncoder\n",
    "from sklearn.preprocessing import OneHotEncoder\n",
    "\n",
    "cat_pipeline = Pipeline([\n",
    "        (\"select_cat\", DataFrameSelector([\"age\", \"job\", \"marital\", \"education\", \"default\", \"housing\", \"loan\", \"contact\", \"month\", \"poutcome\"])),\n",
    "        (\"imputer\", MostFrequentImputer()),\n",
    "        (\"cat_encoder\", OneHotEncoder(sparse=False, handle_unknown = 'ignore')),\n",
    "        (\"scaler\", StandardScaler())\n",
    "    ])"
   ],
   "metadata": {
    "collapsed": false,
    "pycharm": {
     "name": "#%%\n"
    }
   }
  },
  {
   "cell_type": "code",
   "execution_count": 417,
   "outputs": [
    {
     "data": {
      "text/plain": "array([[-0.01663205, -0.03721099, -0.02352453, ..., -0.20947532,\n        -0.18526992,  0.47076706],\n       [-0.01663205, -0.03721099, -0.02352453, ..., -0.20947532,\n        -0.18526992,  0.47076706],\n       [-0.01663205, -0.03721099, -0.02352453, ..., -0.20947532,\n        -0.18526992,  0.47076706],\n       ...,\n       [-0.01663205, -0.03721099, -0.02352453, ..., -0.20947532,\n        -0.18526992,  0.47076706],\n       [-0.01663205, -0.03721099, -0.02352453, ..., -0.20947532,\n        -0.18526992, -2.12419282],\n       [-0.01663205, -0.03721099, -0.02352453, ..., -0.20947532,\n        -0.18526992,  0.47076706]])"
     },
     "execution_count": 417,
     "metadata": {},
     "output_type": "execute_result"
    }
   ],
   "source": [
    "cat_pipeline.fit_transform(X_train)"
   ],
   "metadata": {
    "collapsed": false,
    "pycharm": {
     "name": "#%%\n"
    }
   }
  },
  {
   "cell_type": "code",
   "execution_count": 418,
   "outputs": [],
   "source": [
    "from sklearn.pipeline import FeatureUnion\n",
    "\n",
    "preprocess_pipeline = FeatureUnion(transformer_list=[\n",
    "\n",
    "        (\"num_pipeline\", num_pipeline),\n",
    "        (\"cat_pipeline\", cat_pipeline),\n",
    "    ])"
   ],
   "metadata": {
    "collapsed": false,
    "pycharm": {
     "name": "#%%\n"
    }
   }
  },
  {
   "cell_type": "markdown",
   "source": [
    "model learing"
   ],
   "metadata": {
    "collapsed": false,
    "pycharm": {
     "name": "#%% md\n"
    }
   }
  },
  {
   "cell_type": "code",
   "execution_count": 419,
   "outputs": [],
   "source": [
    "from sklearn.model_selection import StratifiedKFold\n",
    "models = []\n",
    "seed=123\n",
    "kfold = StratifiedKFold(n_splits=5)"
   ],
   "metadata": {
    "collapsed": false,
    "pycharm": {
     "name": "#%%\n"
    }
   }
  },
  {
   "cell_type": "code",
   "execution_count": 420,
   "outputs": [],
   "source": [
    "def print_model_stats(model):\n",
    "    print(\"precision_score: {}\".format(metrics.precision_score(y_test, model.predict(X_test)) ))\n",
    "    print(\"recall_score: {}\".format( metrics.recall_score(y_test, model.predict(X_test)) ))\n",
    "    print(\"f1_score: {}\".format( metrics.f1_score(y_test, model.predict(X_test)) ))\n",
    "    print(\"accuracy_score: {}\".format( metrics.accuracy_score(y_test, model.predict(X_test)) ))"
   ],
   "metadata": {
    "collapsed": false,
    "pycharm": {
     "name": "#%%\n"
    }
   }
  },
  {
   "cell_type": "code",
   "execution_count": 421,
   "outputs": [],
   "source": [
    "from sklearn.base import ClassifierMixin\n",
    "\n",
    "class CustomClassifier(BaseEstimator, ClassifierMixin):\n",
    "\n",
    "    def __init__(self):\n",
    "        pass\n",
    "\n",
    "    def fit(self, X, y=None):\n",
    "        pass\n",
    "\n",
    "    def predict(self, X, y=None):\n",
    "        return np.zeros((len(X)))\n",
    "\n",
    "    def predict_proba(self, X, y=None):\n",
    "        pass"
   ],
   "metadata": {
    "collapsed": false,
    "pycharm": {
     "name": "#%%\n"
    }
   }
  },
  {
   "cell_type": "code",
   "execution_count": 421,
   "outputs": [],
   "source": [],
   "metadata": {
    "collapsed": false,
    "pycharm": {
     "name": "#%%\n"
    }
   }
  },
  {
   "cell_type": "code",
   "execution_count": 422,
   "outputs": [
    {
     "name": "stdout",
     "output_type": "stream",
     "text": [
      "{}\n",
      "precision_score: 0.0\n",
      "recall_score: 0.0\n",
      "f1_score: 0.0\n"
     ]
    },
    {
     "name": "stderr",
     "output_type": "stream",
     "text": [
      "C:\\Users\\wojte\\AppData\\Local\\Programs\\Python\\Python310\\lib\\site-packages\\sklearn\\metrics\\_classification.py:1318: UndefinedMetricWarning: Precision is ill-defined and being set to 0.0 due to no predicted samples. Use `zero_division` parameter to control this behavior.\n",
      "  _warn_prf(average, modifier, msg_start, len(result))\n"
     ]
    },
    {
     "name": "stdout",
     "output_type": "stream",
     "text": [
      "accuracy_score: 0.8806629834254144\n"
     ]
    }
   ],
   "source": [
    "from sklearn.model_selection import GridSearchCV\n",
    "from sklearn.linear_model import LogisticRegression\n",
    "\n",
    "pipe = Pipeline([\n",
    "    ('preprocessing', preprocess_pipeline),\n",
    "    ('classifier', CustomClassifier())])\n",
    "\n",
    "\n",
    "param_grid = {\n",
    "\n",
    "}\n",
    "\n",
    "grid_44 = GridSearchCV(pipe, param_grid, cv=kfold)\n",
    "\n",
    "grid_44.fit(X_train, y_train)\n",
    "models.append(('log', grid_44.best_estimator_))\n",
    "print(grid_44.best_params_)\n",
    "print_model_stats(grid_44.best_estimator_)"
   ],
   "metadata": {
    "collapsed": false,
    "pycharm": {
     "name": "#%%\n"
    }
   }
  },
  {
   "cell_type": "code",
   "execution_count": 423,
   "outputs": [
    {
     "name": "stderr",
     "output_type": "stream",
     "text": [
      "C:\\Users\\wojte\\AppData\\Local\\Programs\\Python\\Python310\\lib\\site-packages\\sklearn\\linear_model\\_logistic.py:1483: UserWarning: Setting penalty='none' will ignore the C and l1_ratio parameters\n",
      "  warnings.warn(\n",
      "C:\\Users\\wojte\\AppData\\Local\\Programs\\Python\\Python310\\lib\\site-packages\\sklearn\\linear_model\\_logistic.py:1483: UserWarning: Setting penalty='none' will ignore the C and l1_ratio parameters\n",
      "  warnings.warn(\n",
      "C:\\Users\\wojte\\AppData\\Local\\Programs\\Python\\Python310\\lib\\site-packages\\sklearn\\linear_model\\_logistic.py:1483: UserWarning: Setting penalty='none' will ignore the C and l1_ratio parameters\n",
      "  warnings.warn(\n",
      "C:\\Users\\wojte\\AppData\\Local\\Programs\\Python\\Python310\\lib\\site-packages\\sklearn\\linear_model\\_logistic.py:1483: UserWarning: Setting penalty='none' will ignore the C and l1_ratio parameters\n",
      "  warnings.warn(\n",
      "C:\\Users\\wojte\\AppData\\Local\\Programs\\Python\\Python310\\lib\\site-packages\\sklearn\\linear_model\\_logistic.py:1483: UserWarning: Setting penalty='none' will ignore the C and l1_ratio parameters\n",
      "  warnings.warn(\n",
      "C:\\Users\\wojte\\AppData\\Local\\Programs\\Python\\Python310\\lib\\site-packages\\sklearn\\linear_model\\_logistic.py:1483: UserWarning: Setting penalty='none' will ignore the C and l1_ratio parameters\n",
      "  warnings.warn(\n",
      "C:\\Users\\wojte\\AppData\\Local\\Programs\\Python\\Python310\\lib\\site-packages\\sklearn\\linear_model\\_logistic.py:1483: UserWarning: Setting penalty='none' will ignore the C and l1_ratio parameters\n",
      "  warnings.warn(\n",
      "C:\\Users\\wojte\\AppData\\Local\\Programs\\Python\\Python310\\lib\\site-packages\\sklearn\\linear_model\\_logistic.py:1483: UserWarning: Setting penalty='none' will ignore the C and l1_ratio parameters\n",
      "  warnings.warn(\n",
      "C:\\Users\\wojte\\AppData\\Local\\Programs\\Python\\Python310\\lib\\site-packages\\sklearn\\linear_model\\_logistic.py:1483: UserWarning: Setting penalty='none' will ignore the C and l1_ratio parameters\n",
      "  warnings.warn(\n",
      "C:\\Users\\wojte\\AppData\\Local\\Programs\\Python\\Python310\\lib\\site-packages\\sklearn\\linear_model\\_logistic.py:1483: UserWarning: Setting penalty='none' will ignore the C and l1_ratio parameters\n",
      "  warnings.warn(\n",
      "C:\\Users\\wojte\\AppData\\Local\\Programs\\Python\\Python310\\lib\\site-packages\\sklearn\\linear_model\\_logistic.py:1483: UserWarning: Setting penalty='none' will ignore the C and l1_ratio parameters\n",
      "  warnings.warn(\n",
      "C:\\Users\\wojte\\AppData\\Local\\Programs\\Python\\Python310\\lib\\site-packages\\sklearn\\linear_model\\_logistic.py:1483: UserWarning: Setting penalty='none' will ignore the C and l1_ratio parameters\n",
      "  warnings.warn(\n",
      "C:\\Users\\wojte\\AppData\\Local\\Programs\\Python\\Python310\\lib\\site-packages\\sklearn\\linear_model\\_logistic.py:1483: UserWarning: Setting penalty='none' will ignore the C and l1_ratio parameters\n",
      "  warnings.warn(\n",
      "C:\\Users\\wojte\\AppData\\Local\\Programs\\Python\\Python310\\lib\\site-packages\\sklearn\\linear_model\\_logistic.py:1483: UserWarning: Setting penalty='none' will ignore the C and l1_ratio parameters\n",
      "  warnings.warn(\n",
      "C:\\Users\\wojte\\AppData\\Local\\Programs\\Python\\Python310\\lib\\site-packages\\sklearn\\linear_model\\_logistic.py:1483: UserWarning: Setting penalty='none' will ignore the C and l1_ratio parameters\n",
      "  warnings.warn(\n",
      "C:\\Users\\wojte\\AppData\\Local\\Programs\\Python\\Python310\\lib\\site-packages\\sklearn\\linear_model\\_logistic.py:1483: UserWarning: Setting penalty='none' will ignore the C and l1_ratio parameters\n",
      "  warnings.warn(\n",
      "C:\\Users\\wojte\\AppData\\Local\\Programs\\Python\\Python310\\lib\\site-packages\\sklearn\\linear_model\\_logistic.py:1483: UserWarning: Setting penalty='none' will ignore the C and l1_ratio parameters\n",
      "  warnings.warn(\n",
      "C:\\Users\\wojte\\AppData\\Local\\Programs\\Python\\Python310\\lib\\site-packages\\sklearn\\linear_model\\_logistic.py:1483: UserWarning: Setting penalty='none' will ignore the C and l1_ratio parameters\n",
      "  warnings.warn(\n",
      "C:\\Users\\wojte\\AppData\\Local\\Programs\\Python\\Python310\\lib\\site-packages\\sklearn\\linear_model\\_logistic.py:1483: UserWarning: Setting penalty='none' will ignore the C and l1_ratio parameters\n",
      "  warnings.warn(\n",
      "C:\\Users\\wojte\\AppData\\Local\\Programs\\Python\\Python310\\lib\\site-packages\\sklearn\\linear_model\\_logistic.py:1483: UserWarning: Setting penalty='none' will ignore the C and l1_ratio parameters\n",
      "  warnings.warn(\n",
      "C:\\Users\\wojte\\AppData\\Local\\Programs\\Python\\Python310\\lib\\site-packages\\sklearn\\model_selection\\_validation.py:372: FitFailedWarning: \n",
      "50 fits failed out of a total of 100.\n",
      "The score on these train-test partitions for these parameters will be set to nan.\n",
      "If these failures are not expected, you can try to debug them by setting error_score='raise'.\n",
      "\n",
      "Below are more details about the failures:\n",
      "--------------------------------------------------------------------------------\n",
      "25 fits failed with the following error:\n",
      "Traceback (most recent call last):\n",
      "  File \"C:\\Users\\wojte\\AppData\\Local\\Programs\\Python\\Python310\\lib\\site-packages\\sklearn\\model_selection\\_validation.py\", line 680, in _fit_and_score\n",
      "    estimator.fit(X_train, y_train, **fit_params)\n",
      "  File \"C:\\Users\\wojte\\AppData\\Local\\Programs\\Python\\Python310\\lib\\site-packages\\sklearn\\pipeline.py\", line 394, in fit\n",
      "    self._final_estimator.fit(Xt, y, **fit_params_last_step)\n",
      "  File \"C:\\Users\\wojte\\AppData\\Local\\Programs\\Python\\Python310\\lib\\site-packages\\sklearn\\linear_model\\_logistic.py\", line 1461, in fit\n",
      "    solver = _check_solver(self.solver, self.penalty, self.dual)\n",
      "  File \"C:\\Users\\wojte\\AppData\\Local\\Programs\\Python\\Python310\\lib\\site-packages\\sklearn\\linear_model\\_logistic.py\", line 447, in _check_solver\n",
      "    raise ValueError(\n",
      "ValueError: Solver lbfgs supports only 'l2' or 'none' penalties, got l1 penalty.\n",
      "\n",
      "--------------------------------------------------------------------------------\n",
      "25 fits failed with the following error:\n",
      "Traceback (most recent call last):\n",
      "  File \"C:\\Users\\wojte\\AppData\\Local\\Programs\\Python\\Python310\\lib\\site-packages\\sklearn\\model_selection\\_validation.py\", line 680, in _fit_and_score\n",
      "    estimator.fit(X_train, y_train, **fit_params)\n",
      "  File \"C:\\Users\\wojte\\AppData\\Local\\Programs\\Python\\Python310\\lib\\site-packages\\sklearn\\pipeline.py\", line 394, in fit\n",
      "    self._final_estimator.fit(Xt, y, **fit_params_last_step)\n",
      "  File \"C:\\Users\\wojte\\AppData\\Local\\Programs\\Python\\Python310\\lib\\site-packages\\sklearn\\linear_model\\_logistic.py\", line 1461, in fit\n",
      "    solver = _check_solver(self.solver, self.penalty, self.dual)\n",
      "  File \"C:\\Users\\wojte\\AppData\\Local\\Programs\\Python\\Python310\\lib\\site-packages\\sklearn\\linear_model\\_logistic.py\", line 447, in _check_solver\n",
      "    raise ValueError(\n",
      "ValueError: Solver lbfgs supports only 'l2' or 'none' penalties, got elasticnet penalty.\n",
      "\n",
      "  warnings.warn(some_fits_failed_message, FitFailedWarning)\n",
      "C:\\Users\\wojte\\AppData\\Local\\Programs\\Python\\Python310\\lib\\site-packages\\sklearn\\model_selection\\_search.py:969: UserWarning: One or more of the test scores are non-finite: [       nan 0.89657161        nan 0.89518886        nan 0.89546587\n",
      "        nan 0.89518886        nan 0.89518924        nan 0.89518886\n",
      "        nan 0.89518886        nan 0.89518886        nan 0.89518886\n",
      "        nan 0.89518886]\n",
      "  warnings.warn(\n"
     ]
    },
    {
     "name": "stdout",
     "output_type": "stream",
     "text": [
      "{'classifier__C': 0.01, 'classifier__penalty': 'l2'}\n",
      "precision_score: 0.6111111111111112\n",
      "recall_score: 0.2037037037037037\n",
      "f1_score: 0.3055555555555555\n",
      "accuracy_score: 0.8895027624309392\n"
     ]
    }
   ],
   "source": [
    "from sklearn.model_selection import GridSearchCV\n",
    "from sklearn.linear_model import LogisticRegression\n",
    "\n",
    "pipe = Pipeline([\n",
    "    ('preprocessing', preprocess_pipeline),\n",
    "    ('classifier', LogisticRegression(max_iter=1000))])\n",
    "\n",
    "\n",
    "param_grid = {\n",
    "            'classifier__C': [ 0.01, 0.1, 1, 10, 100],\n",
    "            'classifier__penalty': ['l1', 'l2', 'elasticnet', 'none']\n",
    "}\n",
    "\n",
    "grid_4 = GridSearchCV(pipe, param_grid, cv=kfold)\n",
    "\n",
    "grid_4.fit(X_train, y_train)\n",
    "\n",
    "models.append(('log', grid_4.best_estimator_))\n",
    "print(grid_4.best_params_)\n",
    "print_model_stats(grid_4.best_estimator_)"
   ],
   "metadata": {
    "collapsed": false,
    "pycharm": {
     "name": "#%%\n"
    }
   }
  },
  {
   "cell_type": "markdown",
   "source": [
    "resoult comarison"
   ],
   "metadata": {
    "collapsed": false,
    "pycharm": {
     "name": "#%% md\n"
    }
   }
  },
  {
   "cell_type": "code",
   "execution_count": 423,
   "outputs": [],
   "source": [
    "\n",
    "\n",
    "\n"
   ],
   "metadata": {
    "collapsed": false,
    "pycharm": {
     "name": "#%%\n"
    }
   }
  },
  {
   "cell_type": "code",
   "execution_count": 423,
   "outputs": [],
   "source": [],
   "metadata": {
    "collapsed": false,
    "pycharm": {
     "name": "#%%\n"
    }
   }
  },
  {
   "cell_type": "code",
   "execution_count": 423,
   "outputs": [],
   "source": [],
   "metadata": {
    "collapsed": false,
    "pycharm": {
     "name": "#%%\n"
    }
   }
  },
  {
   "cell_type": "code",
   "execution_count": 423,
   "outputs": [],
   "source": [],
   "metadata": {
    "collapsed": false,
    "pycharm": {
     "name": "#%%\n"
    }
   }
  },
  {
   "cell_type": "code",
   "execution_count": 423,
   "outputs": [],
   "source": [],
   "metadata": {
    "collapsed": false,
    "pycharm": {
     "name": "#%%\n"
    }
   }
  },
  {
   "cell_type": "code",
   "execution_count": 423,
   "outputs": [],
   "source": [],
   "metadata": {
    "collapsed": false,
    "pycharm": {
     "name": "#%%\n"
    }
   }
  },
  {
   "cell_type": "markdown",
   "source": [
    "garbage"
   ],
   "metadata": {
    "collapsed": false,
    "pycharm": {
     "name": "#%% md\n"
    }
   }
  },
  {
   "cell_type": "code",
   "execution_count": 424,
   "outputs": [
    {
     "name": "stdout",
     "output_type": "stream",
     "text": [
      "log\n",
      "precision_score: 0.0\n",
      "recall_score: 0.0\n",
      "f1_score: 0.0\n",
      "accuracy_score: 0.8806629834254144\n",
      "log\n",
      "precision_score: 0.6111111111111112\n",
      "recall_score: 0.2037037037037037\n",
      "f1_score: 0.3055555555555555\n",
      "accuracy_score: 0.8895027624309392\n"
     ]
    },
    {
     "name": "stderr",
     "output_type": "stream",
     "text": [
      "C:\\Users\\wojte\\AppData\\Local\\Programs\\Python\\Python310\\lib\\site-packages\\sklearn\\metrics\\_classification.py:1318: UndefinedMetricWarning: Precision is ill-defined and being set to 0.0 due to no predicted samples. Use `zero_division` parameter to control this behavior.\n",
      "  _warn_prf(average, modifier, msg_start, len(result))\n",
      "C:\\Users\\wojte\\AppData\\Local\\Programs\\Python\\Python310\\lib\\site-packages\\sklearn\\metrics\\_classification.py:1318: UndefinedMetricWarning: Precision is ill-defined and being set to 0.0 due to no predicted samples. Use `zero_division` parameter to control this behavior.\n",
      "  _warn_prf(average, modifier, msg_start, len(result))\n"
     ]
    }
   ],
   "source": [
    "precision_score = []\n",
    "recall_score = []\n",
    "f1_score = []\n",
    "accuracy_score = []\n",
    "for name, model in models:\n",
    "    print(name)\n",
    "    print(\"precision_score: {}\".format(metrics.precision_score(y_test, model.predict(X_test)) ))\n",
    "    print(\"recall_score: {}\".format( metrics.recall_score(y_test, model.predict(X_test)) ))\n",
    "    print(\"f1_score: {}\".format( metrics.f1_score(y_test, model.predict(X_test)) ))\n",
    "    print(\"accuracy_score: {}\".format( metrics.accuracy_score(y_test, model.predict(X_test)) ))\n",
    "    precision_score.append(metrics.precision_score(y_test, model.predict(X_test)))\n",
    "    recall_score.append(metrics.recall_score(y_test, model.predict(X_test)))\n",
    "    f1_score.append( metrics.f1_score(y_test, model.predict(X_test)))\n",
    "    accuracy_score.append(metrics.accuracy_score(y_test, model.predict(X_test)))"
   ],
   "metadata": {
    "collapsed": false,
    "pycharm": {
     "name": "#%%\n"
    }
   }
  }
 ],
 "metadata": {
  "kernelspec": {
   "display_name": "Python 3",
   "language": "python",
   "name": "python3"
  },
  "language_info": {
   "codemirror_mode": {
    "name": "ipython",
    "version": 2
   },
   "file_extension": ".py",
   "mimetype": "text/x-python",
   "name": "python",
   "nbconvert_exporter": "python",
   "pygments_lexer": "ipython2",
   "version": "2.7.6"
  }
 },
 "nbformat": 4,
 "nbformat_minor": 0
}